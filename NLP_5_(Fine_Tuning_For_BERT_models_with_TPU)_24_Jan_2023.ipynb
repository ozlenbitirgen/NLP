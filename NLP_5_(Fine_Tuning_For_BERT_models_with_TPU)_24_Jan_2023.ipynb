{
 "cells": [
  {
   "cell_type": "markdown",
   "metadata": {
    "id": "Z3hO1LT4m8xM"
   },
   "source": [
    "# Fine Tuning For BERT Models with TPU"
   ]
  },
  {
   "cell_type": "markdown",
   "metadata": {
    "id": "ceaBKTihhnyo"
   },
   "source": [
    "###Arka uç atanamadı\n",
    "\n",
    "TPU kullanan arka uçlardan hiçbiri boşta değil. Hızlandırıcısı olmayan bir çalışma zamanı kullanmak ister misiniz?\n",
    "\n",
    "Yukarıdaki hatayı alırsanız. 2-3 dakikaya bir aşağıdaki hücreyi tekrar çalıştırın."
   ]
  },
  {
   "cell_type": "code",
   "execution_count": null,
   "metadata": {
    "id": "uuM1yGIv3C7Q"
   },
   "outputs": [],
   "source": [
    "import tensorflow as tf\n",
    "import os\n",
    "\n",
    "# Note that the `tpu` argument is for Colab-only\n",
    "resolver = tf.distribute.cluster_resolver.TPUClusterResolver(tpu='grpc://' + os.environ['COLAB_TPU_ADDR'])\n",
    "\n",
    "tf.config.experimental_connect_to_cluster(resolver)\n",
    "tf.tpu.experimental.initialize_tpu_system(resolver)\n",
    "# print(\"All devices: \", tf.config.list_logical_devices('TPU'))"
   ]
  },
  {
   "cell_type": "code",
   "execution_count": null,
   "metadata": {
    "id": "V80qmNdlhP1a"
   },
   "outputs": [],
   "source": [
    "strategy = tf.distribute.TPUStrategy(resolver)\n",
    "\n",
    "# TPU çekirdeklerinin hızından faydalanabilmek için öncelikle bu çekirdekleri tahsis ediyor ve strategy değişkenine atıyoruz."
   ]
  },
  {
   "cell_type": "code",
   "execution_count": null,
   "metadata": {
    "colab": {
     "base_uri": "https://localhost:8080/"
    },
    "id": "lhD9niRaGkSq",
    "outputId": "70f1ccb3-bb22-4aa9-b669-90eaabd53c9f"
   },
   "outputs": [
    {
     "name": "stdout",
     "output_type": "stream",
     "text": [
      "Drive already mounted at /content/drive; to attempt to forcibly remount, call drive.mount(\"/content/drive\", force_remount=True).\n"
     ]
    }
   ],
   "source": [
    "from google.colab import drive\n",
    "drive.mount('/content/drive')"
   ]
  },
  {
   "cell_type": "code",
   "execution_count": null,
   "metadata": {
    "colab": {
     "base_uri": "https://localhost:8080/"
    },
    "id": "_skoAhjLmF0E",
    "outputId": "876dbbfb-ef3a-4143-8bcc-88721141c992"
   },
   "outputs": [
    {
     "name": "stdout",
     "output_type": "stream",
     "text": [
      "Looking in indexes: https://pypi.org/simple, https://us-python.pkg.dev/colab-wheels/public/simple/\n",
      "Requirement already satisfied: transformers in /usr/local/lib/python3.8/dist-packages (4.25.1)\n",
      "Requirement already satisfied: tokenizers!=0.11.3,<0.14,>=0.11.1 in /usr/local/lib/python3.8/dist-packages (from transformers) (0.13.2)\n",
      "Requirement already satisfied: requests in /usr/local/lib/python3.8/dist-packages (from transformers) (2.25.1)\n",
      "Requirement already satisfied: numpy>=1.17 in /usr/local/lib/python3.8/dist-packages (from transformers) (1.21.6)\n",
      "Requirement already satisfied: tqdm>=4.27 in /usr/local/lib/python3.8/dist-packages (from transformers) (4.64.1)\n",
      "Requirement already satisfied: huggingface-hub<1.0,>=0.10.0 in /usr/local/lib/python3.8/dist-packages (from transformers) (0.11.1)\n",
      "Requirement already satisfied: packaging>=20.0 in /usr/local/lib/python3.8/dist-packages (from transformers) (21.3)\n",
      "Requirement already satisfied: regex!=2019.12.17 in /usr/local/lib/python3.8/dist-packages (from transformers) (2022.6.2)\n",
      "Requirement already satisfied: filelock in /usr/local/lib/python3.8/dist-packages (from transformers) (3.9.0)\n",
      "Requirement already satisfied: pyyaml>=5.1 in /usr/local/lib/python3.8/dist-packages (from transformers) (5.4.1)\n",
      "Requirement already satisfied: typing-extensions>=3.7.4.3 in /usr/local/lib/python3.8/dist-packages (from huggingface-hub<1.0,>=0.10.0->transformers) (4.4.0)\n",
      "Requirement already satisfied: pyparsing!=3.0.5,>=2.0.2 in /usr/local/lib/python3.8/dist-packages (from packaging>=20.0->transformers) (3.0.9)\n",
      "Requirement already satisfied: chardet<5,>=3.0.2 in /usr/local/lib/python3.8/dist-packages (from requests->transformers) (4.0.0)\n",
      "Requirement already satisfied: certifi>=2017.4.17 in /usr/local/lib/python3.8/dist-packages (from requests->transformers) (2022.12.7)\n",
      "Requirement already satisfied: idna<3,>=2.5 in /usr/local/lib/python3.8/dist-packages (from requests->transformers) (2.10)\n",
      "Requirement already satisfied: urllib3<1.27,>=1.21.1 in /usr/local/lib/python3.8/dist-packages (from requests->transformers) (1.24.3)\n"
     ]
    }
   ],
   "source": [
    "!pip install transformers\n",
    "# BERT transformerslar üzerine kurulu olduğundan BERT modelleri kullanabilmek için transformersları install ediyoruz öncelikle."
   ]
  },
  {
   "cell_type": "code",
   "execution_count": null,
   "metadata": {
    "id": "KwjqS75AeE-w"
   },
   "outputs": [],
   "source": []
  },
  {
   "cell_type": "markdown",
   "metadata": {
    "id": "FDDYcyvBeFmA"
   },
   "source": [
    "## Import Library"
   ]
  },
  {
   "cell_type": "code",
   "execution_count": null,
   "metadata": {
    "id": "UVecSUbKq_si"
   },
   "outputs": [],
   "source": [
    "import numpy as np\n",
    "import pandas as pd\n",
    "import warnings\n",
    "warnings.filterwarnings('ignore')"
   ]
  },
  {
   "cell_type": "code",
   "execution_count": null,
   "metadata": {
    "id": "Vhy2dT_aq_f4"
   },
   "outputs": [],
   "source": [
    "df = pd.read_csv('/content/drive/MyDrive/hepsiburada.zip', encoding=\"utf-8\")"
   ]
  },
  {
   "cell_type": "code",
   "execution_count": null,
   "metadata": {
    "colab": {
     "base_uri": "https://localhost:8080/",
     "height": 206
    },
    "id": "f3qQ6RJ0q_R4",
    "outputId": "a6fc6c14-070f-423f-e516-2a9c04f98197"
   },
   "outputs": [
    {
     "data": {
      "text/html": [
       "\n",
       "  <div id=\"df-96d63492-ee88-45c2-b808-6a1a22a2a91f\">\n",
       "    <div class=\"colab-df-container\">\n",
       "      <div>\n",
       "<style scoped>\n",
       "    .dataframe tbody tr th:only-of-type {\n",
       "        vertical-align: middle;\n",
       "    }\n",
       "\n",
       "    .dataframe tbody tr th {\n",
       "        vertical-align: top;\n",
       "    }\n",
       "\n",
       "    .dataframe thead th {\n",
       "        text-align: right;\n",
       "    }\n",
       "</style>\n",
       "<table border=\"1\" class=\"dataframe\">\n",
       "  <thead>\n",
       "    <tr style=\"text-align: right;\">\n",
       "      <th></th>\n",
       "      <th>Rating</th>\n",
       "      <th>Review</th>\n",
       "    </tr>\n",
       "  </thead>\n",
       "  <tbody>\n",
       "    <tr>\n",
       "      <th>0</th>\n",
       "      <td>1</td>\n",
       "      <td>3 yıldır tık demedi. :)</td>\n",
       "    </tr>\n",
       "    <tr>\n",
       "      <th>1</th>\n",
       "      <td>1</td>\n",
       "      <td>3 yıldır kullanıyorum müthiş</td>\n",
       "    </tr>\n",
       "    <tr>\n",
       "      <th>2</th>\n",
       "      <td>1</td>\n",
       "      <td>Ürün bugün elime geçti çok fazla inceleme fırs...</td>\n",
       "    </tr>\n",
       "    <tr>\n",
       "      <th>3</th>\n",
       "      <td>1</td>\n",
       "      <td>Almaya karar verdim. Hemencecik geldi. Keyifle...</td>\n",
       "    </tr>\n",
       "    <tr>\n",
       "      <th>4</th>\n",
       "      <td>1</td>\n",
       "      <td>Günlük kullanımınızı çok çok iyi karsılıyor kı...</td>\n",
       "    </tr>\n",
       "  </tbody>\n",
       "</table>\n",
       "</div>\n",
       "      <button class=\"colab-df-convert\" onclick=\"convertToInteractive('df-96d63492-ee88-45c2-b808-6a1a22a2a91f')\"\n",
       "              title=\"Convert this dataframe to an interactive table.\"\n",
       "              style=\"display:none;\">\n",
       "        \n",
       "  <svg xmlns=\"http://www.w3.org/2000/svg\" height=\"24px\"viewBox=\"0 0 24 24\"\n",
       "       width=\"24px\">\n",
       "    <path d=\"M0 0h24v24H0V0z\" fill=\"none\"/>\n",
       "    <path d=\"M18.56 5.44l.94 2.06.94-2.06 2.06-.94-2.06-.94-.94-2.06-.94 2.06-2.06.94zm-11 1L8.5 8.5l.94-2.06 2.06-.94-2.06-.94L8.5 2.5l-.94 2.06-2.06.94zm10 10l.94 2.06.94-2.06 2.06-.94-2.06-.94-.94-2.06-.94 2.06-2.06.94z\"/><path d=\"M17.41 7.96l-1.37-1.37c-.4-.4-.92-.59-1.43-.59-.52 0-1.04.2-1.43.59L10.3 9.45l-7.72 7.72c-.78.78-.78 2.05 0 2.83L4 21.41c.39.39.9.59 1.41.59.51 0 1.02-.2 1.41-.59l7.78-7.78 2.81-2.81c.8-.78.8-2.07 0-2.86zM5.41 20L4 18.59l7.72-7.72 1.47 1.35L5.41 20z\"/>\n",
       "  </svg>\n",
       "      </button>\n",
       "      \n",
       "  <style>\n",
       "    .colab-df-container {\n",
       "      display:flex;\n",
       "      flex-wrap:wrap;\n",
       "      gap: 12px;\n",
       "    }\n",
       "\n",
       "    .colab-df-convert {\n",
       "      background-color: #E8F0FE;\n",
       "      border: none;\n",
       "      border-radius: 50%;\n",
       "      cursor: pointer;\n",
       "      display: none;\n",
       "      fill: #1967D2;\n",
       "      height: 32px;\n",
       "      padding: 0 0 0 0;\n",
       "      width: 32px;\n",
       "    }\n",
       "\n",
       "    .colab-df-convert:hover {\n",
       "      background-color: #E2EBFA;\n",
       "      box-shadow: 0px 1px 2px rgba(60, 64, 67, 0.3), 0px 1px 3px 1px rgba(60, 64, 67, 0.15);\n",
       "      fill: #174EA6;\n",
       "    }\n",
       "\n",
       "    [theme=dark] .colab-df-convert {\n",
       "      background-color: #3B4455;\n",
       "      fill: #D2E3FC;\n",
       "    }\n",
       "\n",
       "    [theme=dark] .colab-df-convert:hover {\n",
       "      background-color: #434B5C;\n",
       "      box-shadow: 0px 1px 3px 1px rgba(0, 0, 0, 0.15);\n",
       "      filter: drop-shadow(0px 1px 2px rgba(0, 0, 0, 0.3));\n",
       "      fill: #FFFFFF;\n",
       "    }\n",
       "  </style>\n",
       "\n",
       "      <script>\n",
       "        const buttonEl =\n",
       "          document.querySelector('#df-96d63492-ee88-45c2-b808-6a1a22a2a91f button.colab-df-convert');\n",
       "        buttonEl.style.display =\n",
       "          google.colab.kernel.accessAllowed ? 'block' : 'none';\n",
       "\n",
       "        async function convertToInteractive(key) {\n",
       "          const element = document.querySelector('#df-96d63492-ee88-45c2-b808-6a1a22a2a91f');\n",
       "          const dataTable =\n",
       "            await google.colab.kernel.invokeFunction('convertToInteractive',\n",
       "                                                     [key], {});\n",
       "          if (!dataTable) return;\n",
       "\n",
       "          const docLinkHtml = 'Like what you see? Visit the ' +\n",
       "            '<a target=\"_blank\" href=https://colab.research.google.com/notebooks/data_table.ipynb>data table notebook</a>'\n",
       "            + ' to learn more about interactive tables.';\n",
       "          element.innerHTML = '';\n",
       "          dataTable['output_type'] = 'display_data';\n",
       "          await google.colab.output.renderOutput(dataTable, element);\n",
       "          const docLink = document.createElement('div');\n",
       "          docLink.innerHTML = docLinkHtml;\n",
       "          element.appendChild(docLink);\n",
       "        }\n",
       "      </script>\n",
       "    </div>\n",
       "  </div>\n",
       "  "
      ],
      "text/plain": [
       "   Rating                                             Review\n",
       "0       1                            3 yıldır tık demedi. :)\n",
       "1       1                      3 yıldır kullanıyorum müthiş \n",
       "2       1  Ürün bugün elime geçti çok fazla inceleme fırs...\n",
       "3       1  Almaya karar verdim. Hemencecik geldi. Keyifle...\n",
       "4       1  Günlük kullanımınızı çok çok iyi karsılıyor kı..."
      ]
     },
     "execution_count": 6,
     "metadata": {},
     "output_type": "execute_result"
    }
   ],
   "source": [
    "df.head()"
   ]
  },
  {
   "cell_type": "code",
   "execution_count": null,
   "metadata": {
    "colab": {
     "base_uri": "https://localhost:8080/"
    },
    "id": "CKG2ol0COCu2",
    "outputId": "71f3b1e1-9f19-4da2-8a95-0abe611a8ca4"
   },
   "outputs": [
    {
     "data": {
      "text/plain": [
       "1    229821\n",
       "0     13676\n",
       "Name: Rating, dtype: int64"
      ]
     },
     "execution_count": 7,
     "metadata": {},
     "output_type": "execute_result"
    }
   ],
   "source": [
    "df.Rating.value_counts()"
   ]
  },
  {
   "cell_type": "code",
   "execution_count": null,
   "metadata": {
    "colab": {
     "base_uri": "https://localhost:8080/"
    },
    "id": "b868SbA6G0sy",
    "outputId": "89196a7a-7d14-4923-8ff4-b02365b7eccb"
   },
   "outputs": [
    {
     "data": {
      "text/plain": [
       "1    0.943835\n",
       "0    0.056165\n",
       "Name: Rating, dtype: float64"
      ]
     },
     "execution_count": 8,
     "metadata": {},
     "output_type": "execute_result"
    }
   ],
   "source": [
    "df.Rating.value_counts(normalize=True)"
   ]
  },
  {
   "cell_type": "code",
   "execution_count": null,
   "metadata": {
    "id": "yCQNvYfHOCga"
   },
   "outputs": [],
   "source": [
    "df.Rating = df.Rating.map({1:0, 0:1})\n",
    "\n",
    "# hedef labelımızı 1 yapıyoruz."
   ]
  },
  {
   "cell_type": "code",
   "execution_count": null,
   "metadata": {
    "id": "fNZYGlzIHvY7"
   },
   "outputs": [],
   "source": [
    "X = df['Review'].values\n",
    "y = df['Rating'].values"
   ]
  },
  {
   "cell_type": "markdown",
   "metadata": {
    "id": "niBysB1sag4U"
   },
   "source": [
    "## Train Test Split"
   ]
  },
  {
   "cell_type": "code",
   "execution_count": null,
   "metadata": {
    "id": "bDF4SJOdaeUo"
   },
   "outputs": [],
   "source": [
    "from sklearn.model_selection import train_test_split\n",
    "\n",
    "X_train, X_test, y_train, y_test = train_test_split(X, y, test_size=0.1, stratify=y, random_state=42)"
   ]
  },
  {
   "cell_type": "markdown",
   "metadata": {
    "id": "Y7dAVSq7TIdk"
   },
   "source": [
    "### Tokenization Example For BERT\n",
    "\n",
    "https://huggingface.co/dbmdz/bert-base-turkish-uncased"
   ]
  },
  {
   "cell_type": "code",
   "execution_count": null,
   "metadata": {
    "id": "imgIIPUaTZCk"
   },
   "outputs": [],
   "source": [
    "from transformers import AutoTokenizer\n",
    "\n",
    "tokenizer = AutoTokenizer.from_pretrained(\"dbmdz/bert-base-turkish-uncased\")\n",
    "\n",
    "# Yukarıya linkini bıraktığım huggingface bert türk linkinden tokenizer ve model kurma işlemlemleri için gerekli olan kodları aynen\n",
    "# alıp burada kullanabiliyoruz. \n",
    "# Tokenizer işlemleri için kullanacağımız kodu tokenizer diye bir değişkene atıyoruz."
   ]
  },
  {
   "cell_type": "code",
   "execution_count": null,
   "metadata": {
    "colab": {
     "base_uri": "https://localhost:8080/"
    },
    "id": "mCi_h-3ATZPQ",
    "outputId": "97b65ce4-bff7-4f65-97ff-3a206c822343"
   },
   "outputs": [
    {
     "data": {
      "text/plain": [
       "['sent',\n",
       " '##epe',\n",
       " '##li',\n",
       " 'suk',\n",
       " '##ru',\n",
       " 'abi',\n",
       " 'cok',\n",
       " 'guzel',\n",
       " 'bir',\n",
       " 'insan',\n",
       " '?',\n",
       " '😊']"
      ]
     },
     "execution_count": 12,
     "metadata": {},
     "output_type": "execute_result"
    }
   ],
   "source": [
    "text = \"Şentepeli Şükrü abi çok güzel bir insan?😊\"\n",
    " \n",
    "tokenizer.tokenize(text)\n",
    "\n",
    "# textimizi tokenizer.tokenize() fonksiyonunun içine verdiğimizde wordpiece tokenizer işlemini uygular ve bize çıktısını döndürür. "
   ]
  },
  {
   "cell_type": "code",
   "execution_count": null,
   "metadata": {
    "colab": {
     "base_uri": "https://localhost:8080/"
    },
    "id": "nfR7gMFCTZZI",
    "outputId": "4f8dfe95-4808-4b3d-d6da-42dd41d4b84b"
   },
   "outputs": [
    {
     "name": "stdout",
     "output_type": "stream",
     "text": [
      "[2, 15955, 11679, 2033, 28792, 2239, 8621, 6191, 14533, 1993, 2419, 35, 989, 3]\n",
      "14\n"
     ]
    }
   ],
   "source": [
    "sentence = \"Şentepeli Şükrü abi çok güzel bir insan?😊\"\n",
    "tokens = tokenizer.encode(sentence, add_special_tokens=True)\n",
    "print(tokens)\n",
    "print(len(tokens))\n",
    "\n",
    "# tokenizer.encode textimizi DL modellerinde olduğu gibi numeric versiona dönüştürür.\n",
    "# Cümlenin/yorumun başlangıç [CLS] ve bitiş noktalarını [SEP] gösteren special tokenler her texte ilave edilir.\n",
    "# Bu şekilde numeric versiona dönüştürülmüş vektöre BERT modellerinde token embeddings vektörü (input_ids) denir.\n",
    "# Ancak BERT modelleri texti sadece token embeddings vektörü olarak istemez. \n",
    "# token embeddings (input_ids), segment embeddings (token_type_ids), position embeddings (attention_mask) vektörlerine dönüştürülmüş \n",
    "# şekilde 3 ayrı vektör olarak ister.\n",
    "\n",
    "# token embedding DL modellerinde olduğu gibi tokenlerin BERT modelinin hafızasında kaçıncı token olduğu bilgisine göre numeric forma dönüştürür.\n",
    "# segment embedding translation, soru cevap, sentence similarity (cümle benzerliği) gibi tasklerde kullanılır. Örneğin translation taski için modele verilecek textin \n",
    "# hangi kısmının türkçe, hangi kısmının ingilizce olduğunu modelin anlayıp bu iki farklı text yapısı arasında tokenlerin birbirleriyle anlamsal ilişkiler kurmasını\n",
    "# sağlar. Türkçe kısmı 0'lar ile temsil edilirken ingilizce kısmı 1'lerle temsil edilir (yada tam tersi olabilir).\n",
    "# position embedding tokenlerin textin kaçıncı tokeni olduğu bilgisini modele besler. Bu şekilde model tokenlerin sırlamasına göre anlamasal ilişkileri kurabilir.\n",
    "# Ancak classificaiton ve sentiment analysis görevlerinde segment embedding kullanılmaz.\n",
    "\n",
    "# Bunun için aşağıda göreceğimiz encode_plus kodunu kullanacağız. "
   ]
  },
  {
   "cell_type": "markdown",
   "metadata": {
    "id": "wVwOkzBCjmMX"
   },
   "source": [
    "### Fixing token counts of all documents"
   ]
  },
  {
   "cell_type": "code",
   "execution_count": null,
   "metadata": {
    "colab": {
     "base_uri": "https://localhost:8080/"
    },
    "id": "HXHgV6hdSBdP",
    "outputId": "ce25fc79-5a92-46b2-d72b-4559b766c8d6"
   },
   "outputs": [
    {
     "name": "stderr",
     "output_type": "stream",
     "text": [
      "Token indices sequence length is longer than the specified maximum sequence length for this model (521 > 512). Running this sequence through the model will result in indexing errors\n"
     ]
    },
    {
     "name": "stdout",
     "output_type": "stream",
     "text": [
      "Max sentence length:  546\n"
     ]
    }
   ],
   "source": [
    "# For every sentence...\n",
    "max_token = []\n",
    "for sent in X:\n",
    "\n",
    "    # Tokenize the text and add `[CLS]` and `[SEP]` tokens.\n",
    "    \n",
    "    input_ids = tokenizer.encode(sent, add_special_tokens=True)\n",
    "    max_token.append(len(input_ids))\n",
    "\n",
    "print('Max sentence length: ', max(max_token))\n",
    "\n",
    "# tokenizer.encode() fonksiyonunu sadece en uzun yorumun kaç tokenden oluştuğu bulmak ve tüm yorumları/textleri kaç\n",
    "# tokene sabitliyeceğimize karar vermek için kullanacağız."
   ]
  },
  {
   "cell_type": "code",
   "execution_count": null,
   "metadata": {
    "colab": {
     "base_uri": "https://localhost:8080/"
    },
    "id": "Nl9BCD__wGTk",
    "outputId": "86599e2e-00d2-4e91-8c0f-789f7c0a2c3f"
   },
   "outputs": [
    {
     "data": {
      "text/plain": [
       "39.53032686234327"
      ]
     },
     "execution_count": 16,
     "metadata": {},
     "output_type": "execute_result"
    }
   ],
   "source": [
    "np.array(max_token).mean()"
   ]
  },
  {
   "cell_type": "code",
   "execution_count": null,
   "metadata": {
    "colab": {
     "base_uri": "https://localhost:8080/"
    },
    "id": "GJEpW1GMUa7Q",
    "outputId": "4d5adf56-046d-4a3f-ec62-95043f504f9d"
   },
   "outputs": [
    {
     "data": {
      "text/plain": [
       "0.9852072099450917"
      ]
     },
     "execution_count": 17,
     "metadata": {},
     "output_type": "execute_result"
    }
   ],
   "source": [
    "sum(np.array(max_token) <= 160) / len(max_token)\n",
    "\n",
    "# tüm yorumları 160 tokene sabitlemeye karar veriyoruz."
   ]
  },
  {
   "cell_type": "markdown",
   "metadata": {
    "id": "m-aKWdTbWEQP"
   },
   "source": [
    "### Transformation Vectors to Matrices"
   ]
  },
  {
   "cell_type": "code",
   "execution_count": null,
   "metadata": {
    "colab": {
     "base_uri": "https://localhost:8080/"
    },
    "id": "yGRSjL_mVtPr",
    "outputId": "c0096ca3-cfe2-49f9-ca35-bbe34925e657"
   },
   "outputs": [
    {
     "name": "stdout",
     "output_type": "stream",
     "text": [
      "{'input_ids': [2, 15955, 11679, 2033, 28792, 2239, 8621, 6191, 14533, 1993, 2419, 35, 989, 3], 'token_type_ids': [0, 0, 0, 0, 0, 0, 0, 0, 0, 0, 0, 0, 0, 0], 'attention_mask': [1, 1, 1, 1, 1, 1, 1, 1, 1, 1, 1, 1, 1, 1]}\n"
     ]
    }
   ],
   "source": [
    "sentence = \"Şentepeli Şükrü abi çok güzel bir insan?😊\"\n",
    "tokens = tokenizer.encode_plus(sentence, add_special_tokens=True)\n",
    "print(tokens)\n",
    "\n",
    "# tokenizer.encode_plus() fonksiyonu BERT modellerinin istediği gibi texti token embeddings (input_ids), segment embeddings (token_type_ids), \n",
    "# position embeddings (attention_mask) vektörlerine dönüştürür.\n",
    "# tokenizer.encode()'da yaptığımız gibi burda da yine cümlenin/yorumun başlangıç [CLS] ve bitiş noktalarını [SEP] gösteren special tokenler her texte ilave edilir.\n",
    "\n",
    "# ÖNEMLİ NOT: BERT classification ve sentiment analys tasklerinde sadece embeddings (input_ids), position embeddings (attention_mask) kullanılır."
   ]
  },
  {
   "cell_type": "code",
   "execution_count": null,
   "metadata": {
    "colab": {
     "base_uri": "https://localhost:8080/"
    },
    "id": "qizDYSs5XwT6",
    "outputId": "90e3c389-9ef6-4964-e396-76c3338da598"
   },
   "outputs": [
    {
     "data": {
      "text/plain": [
       "{'input_ids': [2, 15955, 11679, 2033, 28792, 2239, 8621, 6191, 14533, 1993, 2419, 35, 989, 3, 0, 0, 0, 0, 0, 0, 0, 0, 0, 0, 0, 0, 0, 0, 0, 0, 0, 0, 0, 0, 0, 0, 0, 0, 0, 0, 0, 0, 0, 0, 0, 0, 0, 0, 0, 0, 0, 0, 0, 0, 0, 0, 0, 0, 0, 0, 0, 0, 0, 0, 0, 0, 0, 0, 0, 0, 0, 0, 0, 0, 0, 0, 0, 0, 0, 0, 0, 0, 0, 0, 0, 0, 0, 0, 0, 0, 0, 0, 0, 0, 0, 0, 0, 0, 0, 0, 0, 0, 0, 0, 0, 0, 0, 0, 0, 0, 0, 0, 0, 0, 0, 0, 0, 0, 0, 0, 0, 0, 0, 0, 0, 0, 0, 0, 0, 0, 0, 0, 0, 0, 0, 0, 0, 0, 0, 0, 0, 0, 0, 0, 0, 0, 0, 0, 0, 0, 0, 0, 0, 0, 0, 0, 0, 0, 0, 0], 'token_type_ids': [0, 0, 0, 0, 0, 0, 0, 0, 0, 0, 0, 0, 0, 0, 0, 0, 0, 0, 0, 0, 0, 0, 0, 0, 0, 0, 0, 0, 0, 0, 0, 0, 0, 0, 0, 0, 0, 0, 0, 0, 0, 0, 0, 0, 0, 0, 0, 0, 0, 0, 0, 0, 0, 0, 0, 0, 0, 0, 0, 0, 0, 0, 0, 0, 0, 0, 0, 0, 0, 0, 0, 0, 0, 0, 0, 0, 0, 0, 0, 0, 0, 0, 0, 0, 0, 0, 0, 0, 0, 0, 0, 0, 0, 0, 0, 0, 0, 0, 0, 0, 0, 0, 0, 0, 0, 0, 0, 0, 0, 0, 0, 0, 0, 0, 0, 0, 0, 0, 0, 0, 0, 0, 0, 0, 0, 0, 0, 0, 0, 0, 0, 0, 0, 0, 0, 0, 0, 0, 0, 0, 0, 0, 0, 0, 0, 0, 0, 0, 0, 0, 0, 0, 0, 0, 0, 0, 0, 0, 0, 0], 'attention_mask': [1, 1, 1, 1, 1, 1, 1, 1, 1, 1, 1, 1, 1, 1, 0, 0, 0, 0, 0, 0, 0, 0, 0, 0, 0, 0, 0, 0, 0, 0, 0, 0, 0, 0, 0, 0, 0, 0, 0, 0, 0, 0, 0, 0, 0, 0, 0, 0, 0, 0, 0, 0, 0, 0, 0, 0, 0, 0, 0, 0, 0, 0, 0, 0, 0, 0, 0, 0, 0, 0, 0, 0, 0, 0, 0, 0, 0, 0, 0, 0, 0, 0, 0, 0, 0, 0, 0, 0, 0, 0, 0, 0, 0, 0, 0, 0, 0, 0, 0, 0, 0, 0, 0, 0, 0, 0, 0, 0, 0, 0, 0, 0, 0, 0, 0, 0, 0, 0, 0, 0, 0, 0, 0, 0, 0, 0, 0, 0, 0, 0, 0, 0, 0, 0, 0, 0, 0, 0, 0, 0, 0, 0, 0, 0, 0, 0, 0, 0, 0, 0, 0, 0, 0, 0, 0, 0, 0, 0, 0, 0]}"
      ]
     },
     "execution_count": 19,
     "metadata": {},
     "output_type": "execute_result"
    }
   ],
   "source": [
    "tokens = tokenizer.encode_plus(sentence, max_length=160, truncation=True,\n",
    "                              padding='max_length', add_special_tokens=True)\n",
    "tokens\n",
    "\n",
    "# Yorumları 160 tokene sabitlemeye karar verdiğimizden tokenizer.encode_plus() fonksiyonu içerisine max_length=160, truncation=True, padding='max_length' parametlerini \n",
    "# vererek tüm yorumlar 160 token olacak şekilde kırpma (truncation=True) ve dolgulama (padding='max_length') işlemlerini yapıyoruz. Burda dikket etmemiz gereken\n",
    "# husus padding = True kullanmıyoruz bunun yerine yerine padding='max_length' kullanıyoruz.\n",
    "# Ayrıca textler [CLS] ve [SEP] special tokenleri ilave edilmiş şekilde 160 tokene sabitlenecektir.\n",
    "\n",
    "# Gördüğünüz gibi 3 vektörde 160 tokene sabitlendi. Classificaiton problemlerinde segment embeddings (token_type_ids) sadece 0'lardan oluşan bir vektör\n",
    "# olacağından classification problemlerinde kullanılmadığını unutmuyoruz."
   ]
  },
  {
   "cell_type": "code",
   "execution_count": null,
   "metadata": {
    "id": "FvdC-h96VtbF"
   },
   "outputs": [],
   "source": [
    "seq_len = 160\n",
    "num_samples = len(X)\n",
    "\n",
    "Xids = np.zeros((num_samples, seq_len))\n",
    "Xmask = np.zeros((num_samples, seq_len))\n",
    "\n",
    "# Elimizde tek bir yorum/text varken BERT modelleri 3 ayrı vektör (classificaiton problemleri için 2 ayrı vektör) olarak textin numeric versiona dönüştürülmesini\n",
    "# ister. Ancak birden fazla yorum varsa artık olayın boyutu değişir. Ve vektörlerin biraraya gelmesiyle oluşan matrixler isterler.\n",
    "# Problemimiz classification olduğundan token embeddings (input_ids), position embeddings (attention_mask) vektörlerinden oluşan 2 ayrı matrix elde etmemiz gerekiyor.\n",
    "# Bunun için öncelikle matriximizin boyutlarını (index, features) beliriyoruz. Burda indeximiz corpusumuzda (X) yeralan toplam document/satır sayısını temsil ederken\n",
    "# features tüm yorumları sabitlediğimiz token sayısı 160'dır. Yani matrixlerimiz (satır sayısı, sabitlediğimiz token sayısı) --> (len(X), 160) boyutunda olacak.\n",
    "\n",
    "# token embeddings (input_ids) vektörlerinden oluşan matrixe Xids, position embeddings (attention_mask) vektörlerinden oluşan matrixe Xmask ataması yapıyoruz. Ve ilk\n",
    "# başta bu 2 matrix tamamen 0'lardan oluşan matrixler olacak. \n",
    "# Her bir yoruma karşılık gelen token embeddings (input_ids) vektörlerini copustaki kaçıncı yorum olduğunu gösteren index numarasına göre Xids matrixne sırayla atıyacağız.\n",
    "# Her bir yoruma karşılık gelen position embeddings (attention_mask) vektörlerini copustaki kaçıncı yorum olduğunu gösteren index numarasına göre Xmask matrixne sırayla \n",
    "# atıyacağız.\n",
    "# Aşağıda bunu ufak bir örneğini göreceğiz."
   ]
  },
  {
   "cell_type": "code",
   "execution_count": null,
   "metadata": {
    "colab": {
     "base_uri": "https://localhost:8080/"
    },
    "id": "UNYl8vXNVtme",
    "outputId": "c2d1ae31-9ff6-4242-de0e-45ea1456c6a7"
   },
   "outputs": [
    {
     "data": {
      "text/plain": [
       "array([[0., 0., 0., 0., 0., 0., 0., 0., 0., 0., 0., 0., 0., 0., 0., 0.,\n",
       "        0., 0., 0., 0., 0., 0., 0., 0., 0., 0., 0., 0., 0., 0., 0., 0.,\n",
       "        0., 0., 0., 0., 0., 0., 0., 0., 0., 0., 0., 0., 0., 0., 0., 0.,\n",
       "        0., 0., 0., 0., 0., 0., 0., 0., 0., 0., 0., 0., 0., 0., 0., 0.,\n",
       "        0., 0., 0., 0., 0., 0., 0., 0., 0., 0., 0., 0., 0., 0., 0., 0.,\n",
       "        0., 0., 0., 0., 0., 0., 0., 0., 0., 0., 0., 0., 0., 0., 0., 0.,\n",
       "        0., 0., 0., 0., 0., 0., 0., 0., 0., 0., 0., 0., 0., 0., 0., 0.,\n",
       "        0., 0., 0., 0., 0., 0., 0., 0., 0., 0., 0., 0., 0., 0., 0., 0.,\n",
       "        0., 0., 0., 0., 0., 0., 0., 0., 0., 0., 0., 0., 0., 0., 0., 0.,\n",
       "        0., 0., 0., 0., 0., 0., 0., 0., 0., 0., 0., 0., 0., 0., 0., 0.],\n",
       "       [0., 0., 0., 0., 0., 0., 0., 0., 0., 0., 0., 0., 0., 0., 0., 0.,\n",
       "        0., 0., 0., 0., 0., 0., 0., 0., 0., 0., 0., 0., 0., 0., 0., 0.,\n",
       "        0., 0., 0., 0., 0., 0., 0., 0., 0., 0., 0., 0., 0., 0., 0., 0.,\n",
       "        0., 0., 0., 0., 0., 0., 0., 0., 0., 0., 0., 0., 0., 0., 0., 0.,\n",
       "        0., 0., 0., 0., 0., 0., 0., 0., 0., 0., 0., 0., 0., 0., 0., 0.,\n",
       "        0., 0., 0., 0., 0., 0., 0., 0., 0., 0., 0., 0., 0., 0., 0., 0.,\n",
       "        0., 0., 0., 0., 0., 0., 0., 0., 0., 0., 0., 0., 0., 0., 0., 0.,\n",
       "        0., 0., 0., 0., 0., 0., 0., 0., 0., 0., 0., 0., 0., 0., 0., 0.,\n",
       "        0., 0., 0., 0., 0., 0., 0., 0., 0., 0., 0., 0., 0., 0., 0., 0.,\n",
       "        0., 0., 0., 0., 0., 0., 0., 0., 0., 0., 0., 0., 0., 0., 0., 0.]])"
      ]
     },
     "execution_count": 21,
     "metadata": {},
     "output_type": "execute_result"
    }
   ],
   "source": [
    "Xids[:2]\n",
    "\n",
    "# Yukarda oluşturduğumuz Xids matrixmizin ilk 2 vektörünü çekiyoruz. Ve beklediğimiz gibi tamamen 0'lardan oluşan 160 elemanlı 2 vektör olduğunu görüyoruz"
   ]
  },
  {
   "cell_type": "code",
   "execution_count": null,
   "metadata": {
    "colab": {
     "base_uri": "https://localhost:8080/"
    },
    "id": "5V0EDnphXeWB",
    "outputId": "d165fa1f-50b4-41ab-fc25-03923aeb5471"
   },
   "outputs": [
    {
     "data": {
      "text/plain": [
       "array([[0., 0., 0., 0., 0., 0., 0., 0., 0., 0., 0., 0., 0., 0., 0., 0.,\n",
       "        0., 0., 0., 0., 0., 0., 0., 0., 0., 0., 0., 0., 0., 0., 0., 0.,\n",
       "        0., 0., 0., 0., 0., 0., 0., 0., 0., 0., 0., 0., 0., 0., 0., 0.,\n",
       "        0., 0., 0., 0., 0., 0., 0., 0., 0., 0., 0., 0., 0., 0., 0., 0.,\n",
       "        0., 0., 0., 0., 0., 0., 0., 0., 0., 0., 0., 0., 0., 0., 0., 0.,\n",
       "        0., 0., 0., 0., 0., 0., 0., 0., 0., 0., 0., 0., 0., 0., 0., 0.,\n",
       "        0., 0., 0., 0., 0., 0., 0., 0., 0., 0., 0., 0., 0., 0., 0., 0.,\n",
       "        0., 0., 0., 0., 0., 0., 0., 0., 0., 0., 0., 0., 0., 0., 0., 0.,\n",
       "        0., 0., 0., 0., 0., 0., 0., 0., 0., 0., 0., 0., 0., 0., 0., 0.,\n",
       "        0., 0., 0., 0., 0., 0., 0., 0., 0., 0., 0., 0., 0., 0., 0., 0.],\n",
       "       [0., 0., 0., 0., 0., 0., 0., 0., 0., 0., 0., 0., 0., 0., 0., 0.,\n",
       "        0., 0., 0., 0., 0., 0., 0., 0., 0., 0., 0., 0., 0., 0., 0., 0.,\n",
       "        0., 0., 0., 0., 0., 0., 0., 0., 0., 0., 0., 0., 0., 0., 0., 0.,\n",
       "        0., 0., 0., 0., 0., 0., 0., 0., 0., 0., 0., 0., 0., 0., 0., 0.,\n",
       "        0., 0., 0., 0., 0., 0., 0., 0., 0., 0., 0., 0., 0., 0., 0., 0.,\n",
       "        0., 0., 0., 0., 0., 0., 0., 0., 0., 0., 0., 0., 0., 0., 0., 0.,\n",
       "        0., 0., 0., 0., 0., 0., 0., 0., 0., 0., 0., 0., 0., 0., 0., 0.,\n",
       "        0., 0., 0., 0., 0., 0., 0., 0., 0., 0., 0., 0., 0., 0., 0., 0.,\n",
       "        0., 0., 0., 0., 0., 0., 0., 0., 0., 0., 0., 0., 0., 0., 0., 0.,\n",
       "        0., 0., 0., 0., 0., 0., 0., 0., 0., 0., 0., 0., 0., 0., 0., 0.]])"
      ]
     },
     "execution_count": 22,
     "metadata": {},
     "output_type": "execute_result"
    }
   ],
   "source": [
    "Xmask[:2]\n",
    "\n",
    "# Yukarda oluşturduğumuz Xmask matrixmizin ilk 2 vektörünü çekiyoruz. Ve beklediğimiz gibi tamamen 0'lardan oluşan 160 elemanlı 2 vektör olduğunu görüyoruz"
   ]
  },
  {
   "cell_type": "code",
   "execution_count": null,
   "metadata": {
    "colab": {
     "base_uri": "https://localhost:8080/"
    },
    "id": "nIH2CmO5csGR",
    "outputId": "1ef441ff-f3cc-4eed-e844-16ae8068f294"
   },
   "outputs": [
    {
     "name": "stdout",
     "output_type": "stream",
     "text": [
      "[2, 15955, 11679, 2033, 28792, 2239, 8621, 6191, 14533, 1993, 2419, 35, 989, 3, 0, 0, 0, 0, 0, 0, 0, 0, 0, 0, 0, 0, 0, 0, 0, 0, 0, 0, 0, 0, 0, 0, 0, 0, 0, 0, 0, 0, 0, 0, 0, 0, 0, 0, 0, 0, 0, 0, 0, 0, 0, 0, 0, 0, 0, 0, 0, 0, 0, 0, 0, 0, 0, 0, 0, 0, 0, 0, 0, 0, 0, 0, 0, 0, 0, 0, 0, 0, 0, 0, 0, 0, 0, 0, 0, 0, 0, 0, 0, 0, 0, 0, 0, 0, 0, 0, 0, 0, 0, 0, 0, 0, 0, 0, 0, 0, 0, 0, 0, 0, 0, 0, 0, 0, 0, 0, 0, 0, 0, 0, 0, 0, 0, 0, 0, 0, 0, 0, 0, 0, 0, 0, 0, 0, 0, 0, 0, 0, 0, 0, 0, 0, 0, 0, 0, 0, 0, 0, 0, 0, 0, 0, 0, 0, 0, 0]\n",
      "[1, 1, 1, 1, 1, 1, 1, 1, 1, 1, 1, 1, 1, 1, 0, 0, 0, 0, 0, 0, 0, 0, 0, 0, 0, 0, 0, 0, 0, 0, 0, 0, 0, 0, 0, 0, 0, 0, 0, 0, 0, 0, 0, 0, 0, 0, 0, 0, 0, 0, 0, 0, 0, 0, 0, 0, 0, 0, 0, 0, 0, 0, 0, 0, 0, 0, 0, 0, 0, 0, 0, 0, 0, 0, 0, 0, 0, 0, 0, 0, 0, 0, 0, 0, 0, 0, 0, 0, 0, 0, 0, 0, 0, 0, 0, 0, 0, 0, 0, 0, 0, 0, 0, 0, 0, 0, 0, 0, 0, 0, 0, 0, 0, 0, 0, 0, 0, 0, 0, 0, 0, 0, 0, 0, 0, 0, 0, 0, 0, 0, 0, 0, 0, 0, 0, 0, 0, 0, 0, 0, 0, 0, 0, 0, 0, 0, 0, 0, 0, 0, 0, 0, 0, 0, 0, 0, 0, 0, 0, 0]\n"
     ]
    }
   ],
   "source": [
    "print(tokens['input_ids'])\n",
    "print(tokens['attention_mask'])\n",
    "\n",
    "# Yukarıda numeric vektörlere dönüştürdüğümüz \"Şentepeli Şükrü abi çok güzel bir insan?😊\" textimizin input_ids ve attention_mask vektörlerini çekiyoruz."
   ]
  },
  {
   "cell_type": "code",
   "execution_count": null,
   "metadata": {
    "id": "wGs1YGitZBRe"
   },
   "outputs": [],
   "source": [
    "Xids[0] = tokens['input_ids']\n",
    "Xmask[0] = tokens['attention_mask']\n",
    "\n",
    "# \"Şentepeli Şükrü abi çok güzel bir insan?😊\" textimizin corpusumuzdaki ilk yorum/text olduğunu varsayarak Xids[0] ile Xids matrixmizin ilk satırına (0'ıncı indexsine)\n",
    "# input_ids vektörünü, Xmask[0] ile de Xmask matrixsimizin ilk satırına (0'ıncı indexsine) attention_mask vektörünü atıyoruz."
   ]
  },
  {
   "cell_type": "code",
   "execution_count": null,
   "metadata": {
    "colab": {
     "base_uri": "https://localhost:8080/"
    },
    "id": "0xOdXoN6ZTFs",
    "outputId": "ede237ff-f1e8-4f2d-8937-48d43368a3ad"
   },
   "outputs": [
    {
     "data": {
      "text/plain": [
       "array([2.0000e+00, 1.5955e+04, 1.1679e+04, 2.0330e+03, 2.8792e+04,\n",
       "       2.2390e+03, 8.6210e+03, 6.1910e+03, 1.4533e+04, 1.9930e+03,\n",
       "       2.4190e+03, 3.5000e+01, 9.8900e+02, 3.0000e+00, 0.0000e+00,\n",
       "       0.0000e+00, 0.0000e+00, 0.0000e+00, 0.0000e+00, 0.0000e+00,\n",
       "       0.0000e+00, 0.0000e+00, 0.0000e+00, 0.0000e+00, 0.0000e+00,\n",
       "       0.0000e+00, 0.0000e+00, 0.0000e+00, 0.0000e+00, 0.0000e+00,\n",
       "       0.0000e+00, 0.0000e+00, 0.0000e+00, 0.0000e+00, 0.0000e+00,\n",
       "       0.0000e+00, 0.0000e+00, 0.0000e+00, 0.0000e+00, 0.0000e+00,\n",
       "       0.0000e+00, 0.0000e+00, 0.0000e+00, 0.0000e+00, 0.0000e+00,\n",
       "       0.0000e+00, 0.0000e+00, 0.0000e+00, 0.0000e+00, 0.0000e+00,\n",
       "       0.0000e+00, 0.0000e+00, 0.0000e+00, 0.0000e+00, 0.0000e+00,\n",
       "       0.0000e+00, 0.0000e+00, 0.0000e+00, 0.0000e+00, 0.0000e+00,\n",
       "       0.0000e+00, 0.0000e+00, 0.0000e+00, 0.0000e+00, 0.0000e+00,\n",
       "       0.0000e+00, 0.0000e+00, 0.0000e+00, 0.0000e+00, 0.0000e+00,\n",
       "       0.0000e+00, 0.0000e+00, 0.0000e+00, 0.0000e+00, 0.0000e+00,\n",
       "       0.0000e+00, 0.0000e+00, 0.0000e+00, 0.0000e+00, 0.0000e+00,\n",
       "       0.0000e+00, 0.0000e+00, 0.0000e+00, 0.0000e+00, 0.0000e+00,\n",
       "       0.0000e+00, 0.0000e+00, 0.0000e+00, 0.0000e+00, 0.0000e+00,\n",
       "       0.0000e+00, 0.0000e+00, 0.0000e+00, 0.0000e+00, 0.0000e+00,\n",
       "       0.0000e+00, 0.0000e+00, 0.0000e+00, 0.0000e+00, 0.0000e+00,\n",
       "       0.0000e+00, 0.0000e+00, 0.0000e+00, 0.0000e+00, 0.0000e+00,\n",
       "       0.0000e+00, 0.0000e+00, 0.0000e+00, 0.0000e+00, 0.0000e+00,\n",
       "       0.0000e+00, 0.0000e+00, 0.0000e+00, 0.0000e+00, 0.0000e+00,\n",
       "       0.0000e+00, 0.0000e+00, 0.0000e+00, 0.0000e+00, 0.0000e+00,\n",
       "       0.0000e+00, 0.0000e+00, 0.0000e+00, 0.0000e+00, 0.0000e+00,\n",
       "       0.0000e+00, 0.0000e+00, 0.0000e+00, 0.0000e+00, 0.0000e+00,\n",
       "       0.0000e+00, 0.0000e+00, 0.0000e+00, 0.0000e+00, 0.0000e+00,\n",
       "       0.0000e+00, 0.0000e+00, 0.0000e+00, 0.0000e+00, 0.0000e+00,\n",
       "       0.0000e+00, 0.0000e+00, 0.0000e+00, 0.0000e+00, 0.0000e+00,\n",
       "       0.0000e+00, 0.0000e+00, 0.0000e+00, 0.0000e+00, 0.0000e+00,\n",
       "       0.0000e+00, 0.0000e+00, 0.0000e+00, 0.0000e+00, 0.0000e+00,\n",
       "       0.0000e+00, 0.0000e+00, 0.0000e+00, 0.0000e+00, 0.0000e+00])"
      ]
     },
     "execution_count": 25,
     "metadata": {},
     "output_type": "execute_result"
    }
   ],
   "source": [
    "Xids[0]\n",
    "\n",
    "# Xids matrixinin ilk satırına yukarıdaki input_ids vektörünün atandığını görüyoruz."
   ]
  },
  {
   "cell_type": "code",
   "execution_count": null,
   "metadata": {
    "colab": {
     "base_uri": "https://localhost:8080/"
    },
    "id": "h3WubnqbZTth",
    "outputId": "87edc761-4e82-458d-d2a8-3d0dbf64ee79"
   },
   "outputs": [
    {
     "data": {
      "text/plain": [
       "array([1., 1., 1., 1., 1., 1., 1., 1., 1., 1., 1., 1., 1., 1., 0., 0., 0.,\n",
       "       0., 0., 0., 0., 0., 0., 0., 0., 0., 0., 0., 0., 0., 0., 0., 0., 0.,\n",
       "       0., 0., 0., 0., 0., 0., 0., 0., 0., 0., 0., 0., 0., 0., 0., 0., 0.,\n",
       "       0., 0., 0., 0., 0., 0., 0., 0., 0., 0., 0., 0., 0., 0., 0., 0., 0.,\n",
       "       0., 0., 0., 0., 0., 0., 0., 0., 0., 0., 0., 0., 0., 0., 0., 0., 0.,\n",
       "       0., 0., 0., 0., 0., 0., 0., 0., 0., 0., 0., 0., 0., 0., 0., 0., 0.,\n",
       "       0., 0., 0., 0., 0., 0., 0., 0., 0., 0., 0., 0., 0., 0., 0., 0., 0.,\n",
       "       0., 0., 0., 0., 0., 0., 0., 0., 0., 0., 0., 0., 0., 0., 0., 0., 0.,\n",
       "       0., 0., 0., 0., 0., 0., 0., 0., 0., 0., 0., 0., 0., 0., 0., 0., 0.,\n",
       "       0., 0., 0., 0., 0., 0., 0.])"
      ]
     },
     "execution_count": 26,
     "metadata": {},
     "output_type": "execute_result"
    }
   ],
   "source": [
    "Xmask[0]\n",
    "\n",
    "# Xmask matrixinin ilk satırına yukarıdaki attention_mask vektörünün atandığını görüyoruz."
   ]
  },
  {
   "cell_type": "code",
   "execution_count": null,
   "metadata": {
    "id": "GhFdnT3ha45y"
   },
   "outputs": [],
   "source": [
    "# yukarıda yaptığımız vektörden matrixe dönüşüm işlemlerini şimdi corpusumuzdaki tüm documnet/yorumlar için yapıyoruz. Daha pratik olması için yapacağımız \n",
    "# işlemleri sırasıyla transformation fonksiyonu içerisine tanımlıyoruz. \n",
    "\n",
    "def transformation(X):\n",
    "  # set array dimensions\n",
    "  seq_len = 160\n",
    "  num_samples = len(X)\n",
    "\n",
    "  # initialize empty zero arrays- 0'lardan oluşan (lex(X), 160) boyutunda matrixlerimizi tanımlıyoruz.\n",
    "  Xids = np.zeros((num_samples, seq_len))\n",
    "  Xmask = np.zeros((num_samples, seq_len))\n",
    "\n",
    "    \n",
    "  for i, phrase in enumerate(X): # enumerate fonksiyonu ile her bir document/yorum için hem index numarası (i) alıyoruz hem de document/yorumları (phrase) çekiyoruz.\n",
    "\n",
    "      tokens = tokenizer.encode_plus(phrase, max_length=seq_len, truncation=True,\n",
    "                                      padding='max_length', add_special_tokens=True) \n",
    "      # çektiğimiz herbir yorumu(phrase) vektörlere dönüştürüyoruz.\n",
    "      \n",
    "      # assign tokenized outputs to respective rows in numpy arrays\n",
    "      Xids[i] = tokens['input_ids'] # her bir yoruma karşılık gelen input_ids vektörü Xids matrixinin i'ninci indexsine atanıyor.\n",
    "      Xmask[i] = tokens['attention_mask'] # her bir yoruma karşılık gelen attention_mask vektörü Xmask matrixinin i'ninci indexsine atanıyor.\n",
    "\n",
    "  return Xids, Xmask # tüm indexlerine atama yapılan Xids ve Xmask matrixleri dönüşüm için hazır."
   ]
  },
  {
   "cell_type": "code",
   "execution_count": null,
   "metadata": {
    "id": "0NV4wPkfHS3h"
   },
   "outputs": [],
   "source": [
    "Xids_train, Xmask_train = transformation(X_train)\n",
    "\n",
    "# Train setimiz için 2 ayrı matriximizi düzenliyoruz.\n",
    "\n",
    "Xids_test, Xmask_test = transformation(X_test)\n",
    "# Test setimiz için de 2 ayrı matriximizi düzenliyoruz."
   ]
  },
  {
   "cell_type": "code",
   "execution_count": null,
   "metadata": {
    "colab": {
     "base_uri": "https://localhost:8080/"
    },
    "id": "1vJfHkbITbKC",
    "outputId": "833dfaef-35b4-4a7d-f7b4-5f32e83514da"
   },
   "outputs": [
    {
     "name": "stdout",
     "output_type": "stream",
     "text": [
      "Xids_train.shape  : (219147, 160)\n",
      "Xmask_train.shape : (219147, 160)\n",
      "Xids_test.shape   : (24350, 160)\n",
      "Xmask_test.shape  : (24350, 160)\n"
     ]
    }
   ],
   "source": [
    "print(\"Xids_train.shape  :\", Xids_train.shape)\n",
    "print(\"Xmask_train.shape :\", Xmask_train.shape)\n",
    "print(\"Xids_test.shape   :\", Xids_test.shape)\n",
    "print(\"Xmask_test.shape  :\", Xmask_test.shape)"
   ]
  },
  {
   "cell_type": "code",
   "execution_count": null,
   "metadata": {
    "colab": {
     "base_uri": "https://localhost:8080/"
    },
    "id": "oQSgvvRlDfE-",
    "outputId": "6388a4e5-9257-4a4c-8470-8ea3398feaa2"
   },
   "outputs": [
    {
     "data": {
      "text/plain": [
       "array([0, 0, 0, ..., 0, 1, 0])"
      ]
     },
     "execution_count": 30,
     "metadata": {},
     "output_type": "execute_result"
    }
   ],
   "source": [
    "y_train"
   ]
  },
  {
   "cell_type": "code",
   "execution_count": null,
   "metadata": {
    "colab": {
     "base_uri": "https://localhost:8080/"
    },
    "id": "lHJJhrbztBv9",
    "outputId": "29ffb0a6-1f12-443e-a4f7-f554e7675bf1"
   },
   "outputs": [
    {
     "data": {
      "text/plain": [
       "array([[0],\n",
       "       [0],\n",
       "       [0],\n",
       "       ...,\n",
       "       [0],\n",
       "       [1],\n",
       "       [0]])"
      ]
     },
     "execution_count": 31,
     "metadata": {},
     "output_type": "execute_result"
    }
   ],
   "source": [
    "labels_train = y_train.reshape(-1,1)\n",
    "labels_train\n",
    "\n",
    "# BERT modelleri target'ı da bir matrix olarak ister. Bu sebeple y_train targetımızı (len(y_train), 1) boyutunda bir matrix'e dönüştürüyoruz."
   ]
  },
  {
   "cell_type": "code",
   "execution_count": null,
   "metadata": {
    "colab": {
     "base_uri": "https://localhost:8080/"
    },
    "id": "O4_LS9A0dPqW",
    "outputId": "657c27fc-8fe7-4c1d-f1fe-5c2f7f71c0ac"
   },
   "outputs": [
    {
     "data": {
      "text/plain": [
       "array([0, 0, 0, ..., 0, 0, 0])"
      ]
     },
     "execution_count": 32,
     "metadata": {},
     "output_type": "execute_result"
    }
   ],
   "source": [
    "y_test"
   ]
  },
  {
   "cell_type": "code",
   "execution_count": null,
   "metadata": {
    "colab": {
     "base_uri": "https://localhost:8080/"
    },
    "id": "rnnfsw0NdP3q",
    "outputId": "cdd91811-628c-4ff8-b5c7-7f8305e9d6da"
   },
   "outputs": [
    {
     "data": {
      "text/plain": [
       "array([[0],\n",
       "       [0],\n",
       "       [0],\n",
       "       ...,\n",
       "       [0],\n",
       "       [0],\n",
       "       [0]])"
      ]
     },
     "execution_count": 33,
     "metadata": {},
     "output_type": "execute_result"
    }
   ],
   "source": [
    "labels_test = y_test.reshape(-1,1)\n",
    "labels_test\n",
    "\n",
    "# BERT modelleri target'ı da bir matrix olarak ister. Bu sebeple y_train targetımızı (len(y_train), 1) boyutunda bir matrix'e dönüştürüyoruz."
   ]
  },
  {
   "cell_type": "code",
   "execution_count": null,
   "metadata": {
    "id": "dPqCWzWoWljh"
   },
   "outputs": [],
   "source": []
  },
  {
   "cell_type": "code",
   "execution_count": null,
   "metadata": {
    "colab": {
     "base_uri": "https://localhost:8080/"
    },
    "id": "9bAr9g42Wlst",
    "outputId": "8109b6d3-5e7b-42d6-a771-4fdc44035879"
   },
   "outputs": [
    {
     "data": {
      "text/plain": [
       "array([[1., 0., 0., 0., 0., 0.],\n",
       "       [0., 1., 0., 0., 0., 0.],\n",
       "       [0., 0., 0., 1., 0., 0.],\n",
       "       [0., 0., 0., 0., 0., 1.],\n",
       "       [0., 0., 0., 0., 1., 0.],\n",
       "       [0., 0., 1., 0., 0., 0.]], dtype=float32)"
      ]
     },
     "execution_count": 34,
     "metadata": {},
     "output_type": "execute_result"
    }
   ],
   "source": [
    "from tensorflow.keras.utils import to_categorical\n",
    "\n",
    "l = np.array([0, 1, 3, 5, 4, 2])\n",
    "to_categorical(l, 6) \n",
    "\n",
    "# Eğer targıtımız binary değilde multi-class olsaydı o zaman target'ı matrix'e dönüştürmek için to_categorical fonksiyonunu kullanacaktık."
   ]
  },
  {
   "cell_type": "markdown",
   "metadata": {
    "id": "4TeftGUfeFDE"
   },
   "source": [
    "## Transformation Matrix to 3D-Tensor"
   ]
  },
  {
   "cell_type": "code",
   "execution_count": null,
   "metadata": {
    "colab": {
     "base_uri": "https://localhost:8080/"
    },
    "id": "_WwNbUgys-oJ",
    "outputId": "375cdfa3-b876-4f5a-805b-9ed899533014"
   },
   "outputs": [
    {
     "data": {
      "text/plain": [
       "<TensorSliceDataset element_spec=(TensorSpec(shape=(160,), dtype=tf.float64, name=None), TensorSpec(shape=(160,), dtype=tf.float64, name=None), TensorSpec(shape=(1,), dtype=tf.int64, name=None))>"
      ]
     },
     "execution_count": 35,
     "metadata": {},
     "output_type": "execute_result"
    }
   ],
   "source": [
    "import tensorflow as tf\n",
    "\n",
    "dataset_train = tf.data.Dataset.from_tensor_slices((Xids_train, Xmask_train, labels_train))\n",
    "dataset_train\n",
    "\n",
    "# Datayı BERT modellerine vermeden önceki son aşama yukarıda elde ettiğimiz matrixleri tensöre dönüştürmektir.\n",
    "# Bir tensor, bir veya daha fazla boyutta veri topluluğunu ifade eden bir matematiksel yapıdır. Tek boyutlu tensör vektör olarak, 2 boyutlu tensör matrix olarak, \n",
    "# 3 ve daha büyük boyuttaki tensörler ise yüksek boyutlu tensörler olarak ifade edilir.\n",
    "# Train datası için yukarıda elde ettiğimiz 3 ayrı matrix'mizi 3 boyutlu tensörlere dönüştüreceğiz.\n",
    "# Hatırlarsanız matrixler bize sadece satır sayısı ve sütun sayısını(max_token sayısı) veriyordu (len(X_train), 160). Ancak matrix'deki her bir tokene karşılık gelen \n",
    "# word embeddingler için matrix'e yeni bir boyut daha ilave etmemiz gerekiyor. \n",
    "# Yeni boyutu ilave edebilmek için matrixleri (2 boyutlu tensör) 3 boyutlu tensörlere dönüştürüyoruz."
   ]
  },
  {
   "cell_type": "code",
   "execution_count": null,
   "metadata": {
    "colab": {
     "base_uri": "https://localhost:8080/"
    },
    "id": "DoYrAWaieXJ4",
    "outputId": "e8e2da27-2fe2-480c-bd14-aed1d5ea72bf"
   },
   "outputs": [
    {
     "data": {
      "text/plain": [
       "<TensorSliceDataset element_spec=(TensorSpec(shape=(160,), dtype=tf.float64, name=None), TensorSpec(shape=(160,), dtype=tf.float64, name=None), TensorSpec(shape=(1,), dtype=tf.int64, name=None))>"
      ]
     },
     "execution_count": 36,
     "metadata": {},
     "output_type": "execute_result"
    }
   ],
   "source": [
    "dataset_test = tf.data.Dataset.from_tensor_slices((Xids_test, Xmask_test, labels_test))\n",
    "dataset_test\n",
    "\n",
    "# Train datasına yaptığımız gibi test datası için de 3 ayrı matrix'mizi 3 boyutlu tensörlere dönüştüreceğiz."
   ]
  },
  {
   "cell_type": "code",
   "execution_count": null,
   "metadata": {
    "id": "QPM4QFRgm_Dq"
   },
   "outputs": [],
   "source": [
    "def map_func(Tensor_Xids, Tensor_Xmask, Tensor_labels):\n",
    "    # we convert our three-item tuple into a two-item tuple where the input item is a dictionary\n",
    "    return {'input_ids': Tensor_Xids, 'attention_mask': Tensor_Xmask}, Tensor_labels\n",
    "  \n",
    "# Yukarıda elde ettiğimiz 3 ayrı 3 boyutlu tensörlerden hangisi 'input_ids' hangisi 'attention_mask' ve hangisi labels model bunları bilemez. Bu sebeple\n",
    "# bu bilgiyi bizim modele sağlamamız gerekiyor. Bunun için yukarıdaki fonksiyonu tanımlıyoruz.\n",
    "# süslü parantez içerisine 'input_ids' ve  'attention_mask' tanımlamamızı yapıyoruz. Labels'ı süslü parantez dışarısında bırakıyoruz."
   ]
  },
  {
   "cell_type": "code",
   "execution_count": null,
   "metadata": {
    "id": "KQLmS8czerNY"
   },
   "outputs": [],
   "source": [
    "# then we use the dataset map method to apply this transformation\n",
    "dataset_train = dataset_train.map(map_func)\n",
    "dataset_test = dataset_test.map(map_func) \n",
    "\n",
    "# yukarıda tanımladığımız fonksiyonu map ile tüm train ve test datasına uyguluyoruz.\n",
    "# dataset_train.map(map_func) ve dataset_test.map(map_func) şeklinde de dönüşümler yapılır. "
   ]
  },
  {
   "cell_type": "code",
   "execution_count": null,
   "metadata": {
    "colab": {
     "base_uri": "https://localhost:8080/"
    },
    "id": "w9siHyyDp_CR",
    "outputId": "6000cb36-6995-403c-b411-571c3c0630c4"
   },
   "outputs": [
    {
     "data": {
      "text/plain": [
       "<MapDataset element_spec=({'input_ids': TensorSpec(shape=(160,), dtype=tf.float64, name=None), 'attention_mask': TensorSpec(shape=(160,), dtype=tf.float64, name=None)}, TensorSpec(shape=(1,), dtype=tf.int64, name=None))>"
      ]
     },
     "execution_count": 39,
     "metadata": {},
     "output_type": "execute_result"
    }
   ],
   "source": [
    "dataset_train"
   ]
  },
  {
   "cell_type": "code",
   "execution_count": null,
   "metadata": {
    "colab": {
     "base_uri": "https://localhost:8080/"
    },
    "id": "Dn5fSio6fNXc",
    "outputId": "235df184-825b-4805-c2f5-6e36518b8e5a"
   },
   "outputs": [
    {
     "data": {
      "text/plain": [
       "<MapDataset element_spec=({'input_ids': TensorSpec(shape=(160,), dtype=tf.float64, name=None), 'attention_mask': TensorSpec(shape=(160,), dtype=tf.float64, name=None)}, TensorSpec(shape=(1,), dtype=tf.int64, name=None))>"
      ]
     },
     "execution_count": 40,
     "metadata": {},
     "output_type": "execute_result"
    }
   ],
   "source": [
    "dataset_test"
   ]
  },
  {
   "cell_type": "markdown",
   "metadata": {
    "id": "VCuOU85Ldns6"
   },
   "source": [
    "## Batch Size and Shuffle Train Dataset"
   ]
  },
  {
   "cell_type": "code",
   "execution_count": null,
   "metadata": {
    "id": "1PDQLvW_m_ww"
   },
   "outputs": [],
   "source": [
    "batch_size = 32\n",
    "\n",
    "# BERT modeli geliştiren developerların yayınladığı makalede batch_size olarak 16 ve 32 sayıları tavsiye edilmiştir.\n",
    "\n",
    "# batch_size \n",
    "# fit into a batch of 32\n",
    "train_ds = dataset_train.batch(batch_size)\n",
    "val_ds = dataset_test.batch(batch_size)\n",
    "\n",
    "# Yukarıda elde ettiğimiz 3 boyutlu tensörleri kaçarlı paketler halinde modele vereceğimizi belirliyoruz. Bu işlemi batch() fonksiyonu ile yapıyoruz.\n",
    "# 32'li paketler halinde modele verilmesini istiyoruz. hem train hem de test datasına uyguluyoruz."
   ]
  },
  {
   "cell_type": "code",
   "execution_count": null,
   "metadata": {
    "id": "lr7ih_V7OBHB"
   },
   "outputs": [],
   "source": []
  },
  {
   "cell_type": "markdown",
   "metadata": {
    "id": "FYMGplc2OCBL"
   },
   "source": [
    "https://www.tensorflow.org/tfmodels/nlp/fine_tune_bert"
   ]
  },
  {
   "cell_type": "code",
   "execution_count": null,
   "metadata": {
    "id": "eJDAZ2vON0oy"
   },
   "outputs": [],
   "source": [
    "#!pip install -q -U \"tensorflow-text==2.11.*\""
   ]
  },
  {
   "cell_type": "code",
   "execution_count": null,
   "metadata": {
    "id": "pXdpuJT7bokA"
   },
   "outputs": [],
   "source": [
    "!pip install -q tf-models-official"
   ]
  },
  {
   "cell_type": "code",
   "execution_count": null,
   "metadata": {
    "colab": {
     "base_uri": "https://localhost:8080/"
    },
    "id": "nAlfvguDURFF",
    "outputId": "d9cb73e0-b435-42ea-c1ca-2dd489244549"
   },
   "outputs": [
    {
     "name": "stdout",
     "output_type": "stream",
     "text": [
      "20547\n",
      "2054\n"
     ]
    }
   ],
   "source": [
    "print(len(train_ds)*3)\n",
    "print(int(0.1*len(train_ds)*3))"
   ]
  },
  {
   "cell_type": "code",
   "execution_count": null,
   "metadata": {
    "id": "FuIB9vY8T9AN"
   },
   "outputs": [],
   "source": [
    "from official.nlp import optimization\n",
    "epochs = 3\n",
    "#batch_size = 32\n",
    "steps_per_epoch = len(train_ds)\n",
    "\n",
    "num_train_steps = steps_per_epoch * epochs\n",
    "num_warmup_steps = int(0.1*num_train_steps)\n",
    "\n",
    "init_lr = 2e-5  # 3e-5, 5e-5\n",
    "optimizer= optimization.create_optimizer(init_lr=init_lr,\n",
    "                                          num_train_steps=num_train_steps,\n",
    "                                          num_warmup_steps=num_warmup_steps,\n",
    "                                          optimizer_type='adamw')  \n",
    "\n",
    "# Num_warmup_steps (ısınma adım sayısı), bir optimizasyon işleminde, modelin eğitim sürecinde kullanılacak olan optimizatörün öğrenme oranının (learning rate) nasıl \n",
    "# belirleneceğini belirler. Öğrenme oranı, modelin eğitim sürecinde ne kadar hızlı öğreneceğini ve güncelleyeceğini belirler. Öğrenme oranının çok yüksek olması, modelin\n",
    "# eğitim sürecinde hızlı öğrenmesine neden olabilir, ancak aynı zamanda modelin overfitting riskini de artırabilir. Öğrenme oranının çok düşük olması ise, modelin eğitim\n",
    "# sürecinde çok yavaş öğrenmesine neden olabilir.\n",
    "\n",
    "# Num_warmup_steps, modelin eğitim sürecinde optimizatörün öğrenme oranının, eğitim sürecinin başlangıcında düşük olmasını ve eğitim sürecinin ilerledikçe yavaş yavaş \n",
    "# yükselmesini sağlar. Bu sayede, modelin eğitim sürecinde daha düşük bir oranda hata yapma riski vardır ve modelin eğitim süreci daha düzenli ilerler. Bu da modelin \n",
    "# daha iyi bir performans göstermesini sağlar. \n",
    "\n",
    "\n",
    "# steps_per_epoch bir epochun kaç adımda tamamlanacağını gösterir. len(train_ds) = 6849 --> len(train_ds) sayısı train_datasının kaç tane 32'li paketlerden/adımlardan \n",
    "# oluştuğunu gösterir.\n",
    "# ÖNEMLİ NOT: train datalarındaki son paketler/adımlar  32'den daha az gözlemden oluşabilir. Mesela bu train_ds datamızın son paketinde/adımında 11 gözlem vardır. \n",
    "# Ancak, 32'den daha az gözlem olsa da biz yinede bunları bir paket/adım olarak sayıyoruz.\n",
    "\n",
    "# num_train_steps, eğitimin toplamda kaç adımda tamamlanacağını gösterir. Eğitim 3 epochda tamamlanacağı için steps_per_epoch(len(train_ds)) * epochs --> 6849 * 3 = 20547\n",
    "# num_warmup_steps, num_train_steps'in %10'u (20547x0.1 = 2054) olacak şekilde alınması tavsiye edilmiştir. Ancak bu oranı biraz daha azaltıp/artırarak skorlarınızı \n",
    "# gözlemleyebilirsiniz. num_warmup_steps'in 2054 olması şu anlama geliyor. Model eğitime başladığında optimization.create_optimizer fonksiyonunun içine verdiğimiz 2e-5 \n",
    "# öğrenme oranı ile direk eğitime başlamaz. \n",
    "# Eğitimin ilk 2054 adımında öğrenme oranı 0 ile 2e-5 arasında olacak şekilde kademeli olarak yavaş yavaş artırılır ve 2054'üncü adımdan sonra eğitim 2e-5 oranı ile devam eder.\n",
    "# Bu sayede modelin eğitim sürecinde daha düşük bir oranda hata yapma riski vardır ve modelin eğitim süreci daha düzenli ilerler. Bu da modelin daha iyi bir performans \n",
    "# göstermesini sağlar. \n",
    "\n",
    "# Dikkat ederseniz burda AdamW (Adam with Weight Decay) optimizatörünü kullandık. AdamW, Adam optimizatörüne ek olarak, ağırlık azaltma (weight decay) özelliği de içerir. \n",
    "# Ağırlık azaltma, modelin ağırlıklarının eğitim sürecinde daha az değişmesini sağlar ve bu sayede overfitting riskini azaltır.\n",
    "\n",
    "# BERT modellerinde developerların tavsiye ettiği öğrenme oranları 2e-5, 3e-5 ve 5e-5'dir.\n",
    "# BERT modellerinde developerların tavsiye ettiği epoch sayısı 2 veya 3'dür. Daha büyük sayılar overfitinge sebep olur. \n",
    "# Deneme yanılma ile hangi öğrenme oranlarının ve epoch sayılarının daha iyi sonuçlar verdiğini gözlemlememiz gerekiyor."
   ]
  },
  {
   "cell_type": "markdown",
   "metadata": {
    "id": "qrDXF1ibl76v"
   },
   "source": [
    "## Creating Model"
   ]
  },
  {
   "cell_type": "code",
   "execution_count": null,
   "metadata": {
    "id": "p__xkFOt4_oI"
   },
   "outputs": [],
   "source": [
    "def create_model():\n",
    "    from transformers import TFAutoModel\n",
    "    from tensorflow.keras.layers import Input, Dropout, Dense, BatchNormalization\n",
    "    from tensorflow.keras import Model\n",
    "\n",
    "    model = TFAutoModel.from_pretrained(\"dbmdz/bert-base-turkish-uncased\") \n",
    "    # Notebookun yeralan huggingface bert türk linkinden model kurma işlemlemleri için gerekli olan kodları aynen alıyoruz.\n",
    "    # Tokenization işlemleri \"dbmdz/bert-base-turkish-uncased\" ile yapıldığından eğitimide \"dbmdz/bert-base-turkish-uncased\" ile yapmamız gerekiyor. \n",
    "    # \"dbmdz/bert-base-turkish-cased\" ile eğitim yapılırsa sonuçlarımız kötü çıkacaktır.\n",
    "\n",
    "    input_ids = Input(shape=(160,), name='input_ids', dtype='int32')\n",
    "    attention_mask = Input(shape=(160,), name='attention_mask', dtype='int32')\n",
    "    # inputlarımız token embeddings (input_ids) ve position embeddings (attention_mask)'den oluştuğundan herbiri için bir input layer oluşturuyoruz.\n",
    "    # Her bir gözlem için input layerlarımızın boyutlarını (shape= (160,)) veriyoruz.\n",
    "    # modelin bu layerları biribirinden ayırt edebilmesi için name olarak map_func fonksiyonu içinde belirlediğimiz isimleri kullanıyoruz. Farklı isimler kullanılırsa model \n",
    "    # hata döndürür.\n",
    "    # BERT modelleri dtype= \"int32\" olarak çalışır. Bu sebeple dtype=\"int32\" olarak belirtiyoruz.\n",
    "\n",
    "    embeddings = model.bert(input_ids=input_ids, attention_mask=attention_mask)[\"pooler_output\"] #[1]\n",
    "    # embeddings layer, BERT model üzerinde daha önce eğitilip hafızasında tutulan word embeddingleri çektiğimiz layerdar.\n",
    "    # Çekilen Word embeddingler birleştirilerek sentence embeddinglere dönüştürülür. \n",
    "    # Elde ettiğimiz sentence embeddinglerin olumlu mu olumsuz mu olduğuna dair eğitimimizi Dense layer üzerinde yapacağız.\n",
    "\n",
    "    x = Dense(160, activation='relu')(embeddings)\n",
    "    x = BatchNormalization()(x)\n",
    "    x = Dropout(0.1)(x) #0.1 oranı developerlar tarafından tavsiye edilen orandır.\n",
    "    y = Dense(1, activation='sigmoid', name='outputs')(x) # outputumuz döndürüyor.\n",
    "\n",
    "    # Dikkat ettiyseniz burda Sequential API yerine Functional API kullanıyoruz. \n",
    "    # Functional API'de bir önceki layerdaki bilgileri bir sonraki layera aktarma işlemini aktarma yapacağımız layerdan sonra bir tuple açıp içerisine bir önceki layerın ismini \n",
    "    # yazarak yapıyoruz.\n",
    "    # Embeddings layerdan elde ettiğimiz sentence embeddingsleri Dense layer'a göndermek için Dense() layerdan sonra bir tuple açıp içerisine bir önceki layerın ismini yazıyoruz\n",
    "    # Aynen burda olduğu gibi Dense(160, activation='relu')(embeddings). Bu sayede embeddings layerdaki bilgiler Dense layera aktarılmış oldu.\n",
    "    # Hatırlarsanız bu işlem Sequential API'de model.add(embeddings) olarak yapılıyordu.\n",
    "\n",
    "    return Model(inputs=[input_ids, attention_mask], outputs=y)\n",
    "    # son aşamada elde ettiğimiz input ve outputlar Model fonksiyonu içine tanımlanır.\n",
    "\n",
    "# modeli bir fonksiyon içinde kurma sebebimiz aşağıdaki strategy.scope() kapsamında yapacağımız işlemlerin daha sade görünmesi için yoksa burdaki tüm kodları strategy.scope() \n",
    "# altında yazmamız gerekecekti."
   ]
  },
  {
   "cell_type": "code",
   "execution_count": null,
   "metadata": {
    "colab": {
     "base_uri": "https://localhost:8080/"
    },
    "id": "tPRqyWNQDzyb",
    "outputId": "af556f13-315a-4b47-b597-ebc12fdd9c68"
   },
   "outputs": [
    {
     "name": "stderr",
     "output_type": "stream",
     "text": [
      "Some layers from the model checkpoint at dbmdz/bert-base-turkish-uncased were not used when initializing TFBertModel: ['nsp___cls', 'mlm___cls']\n",
      "- This IS expected if you are initializing TFBertModel from the checkpoint of a model trained on another task or with another architecture (e.g. initializing a BertForSequenceClassification model from a BertForPreTraining model).\n",
      "- This IS NOT expected if you are initializing TFBertModel from the checkpoint of a model that you expect to be exactly identical (initializing a BertForSequenceClassification model from a BertForSequenceClassification model).\n",
      "All the layers of TFBertModel were initialized from the model checkpoint at dbmdz/bert-base-turkish-uncased.\n",
      "If your task is similar to the task the model of the checkpoint was trained on, you can already use TFBertModel for predictions without further training.\n"
     ]
    }
   ],
   "source": [
    "# strategy değişkenine atanan 8 TPU çekirdeğinin hızından faydalanarak yapmak istediğimiz tüm işlemleri with strategy.scope() kod bloğunun \n",
    "# altında tanımlıyoruz.\n",
    "\n",
    "with strategy.scope():\n",
    "\n",
    "  from tensorflow.keras.optimizers import Adam\n",
    "  from tensorflow.keras.losses import BinaryCrossentropy\n",
    "  from tensorflow.keras.metrics import Recall\n",
    "  \n",
    "  optimizer = optimizer\n",
    "  #tf.keras.optimizers.Adam(learning_rate=2e-5) yukarıda tanımladığımız optimizer'ı kullanmasaydık bu şekilde de optimizer'ı tanımlayabilirdik. \n",
    "  # Ama çok rahat overfiting olma riski vardır\n",
    "  loss = BinaryCrossentropy()\n",
    "  recall = Recall()\n",
    "  model3 = create_model()\n",
    "  model3.compile(optimizer=optimizer, loss=loss, metrics=[recall])"
   ]
  },
  {
   "cell_type": "code",
   "execution_count": null,
   "metadata": {
    "id": "GHBMQ5bTxL4o"
   },
   "outputs": [],
   "source": [
    "#pd.Series(y).value_counts(normalize=True)"
   ]
  },
  {
   "cell_type": "code",
   "execution_count": null,
   "metadata": {
    "id": "GpqDx2KRxNpj"
   },
   "outputs": [],
   "source": [
    "#weights = {0:0.05, 1:0.95}"
   ]
  },
  {
   "cell_type": "code",
   "execution_count": null,
   "metadata": {
    "colab": {
     "base_uri": "https://localhost:8080/"
    },
    "id": "tLEyg_TUVTXn",
    "outputId": "83a07a3f-f83d-4efa-e422-82f088723757"
   },
   "outputs": [
    {
     "name": "stdout",
     "output_type": "stream",
     "text": [
      "Model: \"model\"\n",
      "__________________________________________________________________________________________________\n",
      " Layer (type)                   Output Shape         Param #     Connected to                     \n",
      "==================================================================================================\n",
      " input_ids (InputLayer)         [(None, 160)]        0           []                               \n",
      "                                                                                                  \n",
      " attention_mask (InputLayer)    [(None, 160)]        0           []                               \n",
      "                                                                                                  \n",
      " bert (TFBertMainLayer)         TFBaseModelOutputWi  110617344   ['input_ids[0][0]',              \n",
      "                                thPoolingAndCrossAt               'attention_mask[0][0]']         \n",
      "                                tentions(last_hidde                                               \n",
      "                                n_state=(None, 160,                                               \n",
      "                                 768),                                                            \n",
      "                                 pooler_output=(Non                                               \n",
      "                                e, 768),                                                          \n",
      "                                 past_key_values=No                                               \n",
      "                                ne, hidden_states=N                                               \n",
      "                                one, attentions=Non                                               \n",
      "                                e, cross_attentions                                               \n",
      "                                =None)                                                            \n",
      "                                                                                                  \n",
      " dense (Dense)                  (None, 160)          123040      ['bert[0][1]']                   \n",
      "                                                                                                  \n",
      " batch_normalization (BatchNorm  (None, 160)         640         ['dense[0][0]']                  \n",
      " alization)                                                                                       \n",
      "                                                                                                  \n",
      " dropout_37 (Dropout)           (None, 160)          0           ['batch_normalization[0][0]']    \n",
      "                                                                                                  \n",
      " outputs (Dense)                (None, 1)            161         ['dropout_37[0][0]']             \n",
      "                                                                                                  \n",
      "==================================================================================================\n",
      "Total params: 110,741,185\n",
      "Trainable params: 110,740,865\n",
      "Non-trainable params: 320\n",
      "__________________________________________________________________________________________________\n"
     ]
    }
   ],
   "source": [
    "model3.summary()"
   ]
  },
  {
   "cell_type": "code",
   "execution_count": null,
   "metadata": {
    "colab": {
     "base_uri": "https://localhost:8080/"
    },
    "id": "-HoW19w4adw4",
    "outputId": "01d05788-ba9a-4dd0-d9de-3fa94612564a"
   },
   "outputs": [
    {
     "name": "stdout",
     "output_type": "stream",
     "text": [
      "Epoch 1/3\n",
      "6849/6849 [==============================] - 801s 103ms/step - loss: 0.3865 - recall: 0.6961 - val_loss: 0.3351 - val_recall: 0.8158\n",
      "Epoch 2/3\n",
      "6849/6849 [==============================] - 636s 93ms/step - loss: 0.1090 - recall: 0.7111 - val_loss: 0.2355 - val_recall: 0.8297\n",
      "Epoch 3/3\n",
      "6849/6849 [==============================] - 636s 93ms/step - loss: 0.0723 - recall: 0.7761 - val_loss: 0.1737 - val_recall: 0.8151\n"
     ]
    },
    {
     "data": {
      "text/plain": [
       "<keras.callbacks.History at 0x7f62932e1250>"
      ]
     },
     "execution_count": 51,
     "metadata": {},
     "output_type": "execute_result"
    }
   ],
   "source": [
    "model3.fit(train_ds, validation_data= val_ds, epochs=epochs, )\n",
    "\n",
    "# Notebook başında hedef labelımızı 1 yapmamızın sebebi modelin döndürdüğü recall ve val_recall metricleri 1 classına ait olan değerlerdir.\n",
    "# Eğitim esnasında recall ve val_recall metriclerini takip edebilmek maksadıyle hedef labelımızı 1 olarak düzenledik.\n",
    "# Loss değeri modelin yaptıkları tahminleri ne kadar yüksek olasılıklarla yaptığını gösterir. Model tüm tahminlerini 1.0 olasılıkla yapmışsa loss değeri 0 olur.\n",
    "# loss = 1/n x (log(olasılık_1) + log(olasılık_2) + log(olasılık_3)+......+ log(olasılık_n))\n",
    "# loss ve val_loss değeri 0 ve 1 classlarının ortak skorunu döndürür. O yüzden çok dengesiz datasetlerinde çoğunluk sınıfın loss değeri daha ağırlıklı olacağından\n",
    "# loss ve val_loss değerlerine bakılarak overfiting kararı verilmez. Ancak class_weight yapılırsa loss değerleri dikkate alınabilir.\n",
    "# recall ve precision metriclerine göre overfiting kararı verilir."
   ]
  },
  {
   "cell_type": "code",
   "execution_count": null,
   "metadata": {
    "id": "YxZ_YPsK61ll"
   },
   "outputs": [],
   "source": [
    "#history = model3.fit(\n",
    "   # train_ds2, validation_data= val_ds, class_weight= {0:1, 1:4},\n",
    "   # epochs=1) #epoch= 2 or 3"
   ]
  },
  {
   "cell_type": "markdown",
   "metadata": {
    "id": "LjsWW1VAmPxK"
   },
   "source": [
    "## Model evaluation"
   ]
  },
  {
   "cell_type": "code",
   "execution_count": null,
   "metadata": {
    "colab": {
     "base_uri": "https://localhost:8080/",
     "height": 143
    },
    "id": "4JFX2J671Ywf",
    "outputId": "15d24e11-37db-439f-fb1e-038b2b1b8c9d"
   },
   "outputs": [
    {
     "data": {
      "text/html": [
       "\n",
       "  <div id=\"df-f6356262-13f4-4aa3-999d-fb77313ddd02\">\n",
       "    <div class=\"colab-df-container\">\n",
       "      <div>\n",
       "<style scoped>\n",
       "    .dataframe tbody tr th:only-of-type {\n",
       "        vertical-align: middle;\n",
       "    }\n",
       "\n",
       "    .dataframe tbody tr th {\n",
       "        vertical-align: top;\n",
       "    }\n",
       "\n",
       "    .dataframe thead th {\n",
       "        text-align: right;\n",
       "    }\n",
       "</style>\n",
       "<table border=\"1\" class=\"dataframe\">\n",
       "  <thead>\n",
       "    <tr style=\"text-align: right;\">\n",
       "      <th></th>\n",
       "      <th>loss</th>\n",
       "      <th>recall</th>\n",
       "      <th>val_loss</th>\n",
       "      <th>val_recall</th>\n",
       "    </tr>\n",
       "  </thead>\n",
       "  <tbody>\n",
       "    <tr>\n",
       "      <th>0</th>\n",
       "      <td>0.386459</td>\n",
       "      <td>0.696133</td>\n",
       "      <td>0.335112</td>\n",
       "      <td>0.815789</td>\n",
       "    </tr>\n",
       "    <tr>\n",
       "      <th>1</th>\n",
       "      <td>0.109027</td>\n",
       "      <td>0.711082</td>\n",
       "      <td>0.235485</td>\n",
       "      <td>0.829678</td>\n",
       "    </tr>\n",
       "    <tr>\n",
       "      <th>2</th>\n",
       "      <td>0.072330</td>\n",
       "      <td>0.776081</td>\n",
       "      <td>0.173686</td>\n",
       "      <td>0.815058</td>\n",
       "    </tr>\n",
       "  </tbody>\n",
       "</table>\n",
       "</div>\n",
       "      <button class=\"colab-df-convert\" onclick=\"convertToInteractive('df-f6356262-13f4-4aa3-999d-fb77313ddd02')\"\n",
       "              title=\"Convert this dataframe to an interactive table.\"\n",
       "              style=\"display:none;\">\n",
       "        \n",
       "  <svg xmlns=\"http://www.w3.org/2000/svg\" height=\"24px\"viewBox=\"0 0 24 24\"\n",
       "       width=\"24px\">\n",
       "    <path d=\"M0 0h24v24H0V0z\" fill=\"none\"/>\n",
       "    <path d=\"M18.56 5.44l.94 2.06.94-2.06 2.06-.94-2.06-.94-.94-2.06-.94 2.06-2.06.94zm-11 1L8.5 8.5l.94-2.06 2.06-.94-2.06-.94L8.5 2.5l-.94 2.06-2.06.94zm10 10l.94 2.06.94-2.06 2.06-.94-2.06-.94-.94-2.06-.94 2.06-2.06.94z\"/><path d=\"M17.41 7.96l-1.37-1.37c-.4-.4-.92-.59-1.43-.59-.52 0-1.04.2-1.43.59L10.3 9.45l-7.72 7.72c-.78.78-.78 2.05 0 2.83L4 21.41c.39.39.9.59 1.41.59.51 0 1.02-.2 1.41-.59l7.78-7.78 2.81-2.81c.8-.78.8-2.07 0-2.86zM5.41 20L4 18.59l7.72-7.72 1.47 1.35L5.41 20z\"/>\n",
       "  </svg>\n",
       "      </button>\n",
       "      \n",
       "  <style>\n",
       "    .colab-df-container {\n",
       "      display:flex;\n",
       "      flex-wrap:wrap;\n",
       "      gap: 12px;\n",
       "    }\n",
       "\n",
       "    .colab-df-convert {\n",
       "      background-color: #E8F0FE;\n",
       "      border: none;\n",
       "      border-radius: 50%;\n",
       "      cursor: pointer;\n",
       "      display: none;\n",
       "      fill: #1967D2;\n",
       "      height: 32px;\n",
       "      padding: 0 0 0 0;\n",
       "      width: 32px;\n",
       "    }\n",
       "\n",
       "    .colab-df-convert:hover {\n",
       "      background-color: #E2EBFA;\n",
       "      box-shadow: 0px 1px 2px rgba(60, 64, 67, 0.3), 0px 1px 3px 1px rgba(60, 64, 67, 0.15);\n",
       "      fill: #174EA6;\n",
       "    }\n",
       "\n",
       "    [theme=dark] .colab-df-convert {\n",
       "      background-color: #3B4455;\n",
       "      fill: #D2E3FC;\n",
       "    }\n",
       "\n",
       "    [theme=dark] .colab-df-convert:hover {\n",
       "      background-color: #434B5C;\n",
       "      box-shadow: 0px 1px 3px 1px rgba(0, 0, 0, 0.15);\n",
       "      filter: drop-shadow(0px 1px 2px rgba(0, 0, 0, 0.3));\n",
       "      fill: #FFFFFF;\n",
       "    }\n",
       "  </style>\n",
       "\n",
       "      <script>\n",
       "        const buttonEl =\n",
       "          document.querySelector('#df-f6356262-13f4-4aa3-999d-fb77313ddd02 button.colab-df-convert');\n",
       "        buttonEl.style.display =\n",
       "          google.colab.kernel.accessAllowed ? 'block' : 'none';\n",
       "\n",
       "        async function convertToInteractive(key) {\n",
       "          const element = document.querySelector('#df-f6356262-13f4-4aa3-999d-fb77313ddd02');\n",
       "          const dataTable =\n",
       "            await google.colab.kernel.invokeFunction('convertToInteractive',\n",
       "                                                     [key], {});\n",
       "          if (!dataTable) return;\n",
       "\n",
       "          const docLinkHtml = 'Like what you see? Visit the ' +\n",
       "            '<a target=\"_blank\" href=https://colab.research.google.com/notebooks/data_table.ipynb>data table notebook</a>'\n",
       "            + ' to learn more about interactive tables.';\n",
       "          element.innerHTML = '';\n",
       "          dataTable['output_type'] = 'display_data';\n",
       "          await google.colab.output.renderOutput(dataTable, element);\n",
       "          const docLink = document.createElement('div');\n",
       "          docLink.innerHTML = docLinkHtml;\n",
       "          element.appendChild(docLink);\n",
       "        }\n",
       "      </script>\n",
       "    </div>\n",
       "  </div>\n",
       "  "
      ],
      "text/plain": [
       "       loss    recall  val_loss  val_recall\n",
       "0  0.386459  0.696133  0.335112    0.815789\n",
       "1  0.109027  0.711082  0.235485    0.829678\n",
       "2  0.072330  0.776081  0.173686    0.815058"
      ]
     },
     "execution_count": 52,
     "metadata": {},
     "output_type": "execute_result"
    }
   ],
   "source": [
    "model_loss = pd.DataFrame(model3.history.history)\n",
    "model_loss.head()"
   ]
  },
  {
   "cell_type": "code",
   "execution_count": null,
   "metadata": {
    "colab": {
     "base_uri": "https://localhost:8080/",
     "height": 283
    },
    "id": "lZ7r5MYR1ymG",
    "outputId": "8ab2c299-4209-410d-96b9-953d61997cb6"
   },
   "outputs": [
    {
     "data": {
      "text/plain": [
       "<matplotlib.axes._subplots.AxesSubplot at 0x7f6293deda00>"
      ]
     },
     "execution_count": 53,
     "metadata": {},
     "output_type": "execute_result"
    },
    {
     "data": {
      "image/png": "[encoded data removed]",
      "text/plain": [
       "<Figure size 432x288 with 1 Axes>"
      ]
     },
     "metadata": {
      "needs_background": "light"
     },
     "output_type": "display_data"
    }
   ],
   "source": [
    "model_loss.plot()\n",
    "\n",
    "# loss ve val_loss değeri 0 ve 1 classlarının ortak skorunu döndürür. O yüzden çok dengesiz datasetlerinde çoğunluk sınıfın loss değeri daha ağırlıklı olacağından\n",
    "# loss ve val_loss değerlerine bakılarak overfiting kararı verilmez.\n",
    "# recall ve precision metriclerine göre overfiting kararı verilir."
   ]
  },
  {
   "cell_type": "code",
   "execution_count": null,
   "metadata": {
    "colab": {
     "base_uri": "https://localhost:8080/"
    },
    "id": "Po2U0-F_D1ks",
    "outputId": "3291ef42-4831-40ed-c2a3-785090a1f084"
   },
   "outputs": [
    {
     "name": "stdout",
     "output_type": "stream",
     "text": [
      "761/761 [==============================] - 30s 33ms/step\n",
      "              precision    recall  f1-score   support\n",
      "\n",
      "           0       0.99      0.99      0.99     22982\n",
      "           1       0.77      0.82      0.79      1368\n",
      "\n",
      "    accuracy                           0.98     24350\n",
      "   macro avg       0.88      0.90      0.89     24350\n",
      "weighted avg       0.98      0.98      0.98     24350\n",
      "\n"
     ]
    }
   ],
   "source": [
    "from sklearn.metrics import classification_report, confusion_matrix\n",
    "\n",
    "y_pred = model3.predict(val_ds) >= 0.5\n",
    "\n",
    "\n",
    "print(classification_report(y_test, y_pred))"
   ]
  },
  {
   "cell_type": "code",
   "execution_count": null,
   "metadata": {
    "colab": {
     "base_uri": "https://localhost:8080/"
    },
    "id": "He4zMpFO6cJE",
    "outputId": "5a1f7c74-0863-4114-9e4c-4c25bdb92b8c"
   },
   "outputs": [
    {
     "name": "stdout",
     "output_type": "stream",
     "text": [
      "6849/6849 [==============================] - 185s 27ms/step\n",
      "              precision    recall  f1-score   support\n",
      "\n",
      "           0       0.99      0.99      0.99    206839\n",
      "           1       0.85      0.88      0.87     12308\n",
      "\n",
      "    accuracy                           0.98    219147\n",
      "   macro avg       0.92      0.94      0.93    219147\n",
      "weighted avg       0.98      0.98      0.98    219147\n",
      "\n"
     ]
    }
   ],
   "source": [
    "y_train_pred = model3.predict(train_ds) >= 0.5\n",
    "\n",
    "\n",
    "print(classification_report(y_train, y_train_pred)) \n",
    "\n",
    "# train datasının scorları için karılmamış train_ds datasını kullanıyoruz."
   ]
  },
  {
   "cell_type": "code",
   "execution_count": null,
   "metadata": {
    "colab": {
     "base_uri": "https://localhost:8080/"
    },
    "id": "qi-n9QAZZY8U",
    "outputId": "b3ffc8e0-e214-405c-daa4-0d7dd59dcbff"
   },
   "outputs": [
    {
     "name": "stdout",
     "output_type": "stream",
     "text": [
      "6849/6849 [==============================] - 181s 26ms/step\n",
      "              precision    recall  f1-score   support\n",
      "\n",
      "           0       0.99      0.99      0.99    206839\n",
      "           1       0.85      0.88      0.87     12308\n",
      "\n",
      "    accuracy                           0.98    219147\n",
      "   macro avg       0.92      0.94      0.93    219147\n",
      "weighted avg       0.98      0.98      0.98    219147\n",
      "\n"
     ]
    }
   ],
   "source": [
    "#y_train_pred2 = model3.predict(train_ds2) >= 0.5\n",
    "\n",
    "\n",
    "#print(classification_report(y_train, y_train_pred2)) \n",
    "\n",
    "# Hatırlarsanız train_ds2'yi sadece eğitim için kullanacağımızı söylemiştik. Eğer metric scorlarını almak için kullanırsak train_ds2 her epochda \n",
    "# kendi içinde karıldığından sonuçları burda olduğu gibi çok kötü çıkacaktır."
   ]
  },
  {
   "cell_type": "code",
   "execution_count": null,
   "metadata": {
    "id": "GVdM_75GXciM"
   },
   "outputs": [],
   "source": []
  },
  {
   "cell_type": "code",
   "execution_count": null,
   "metadata": {
    "colab": {
     "base_uri": "https://localhost:8080/",
     "height": 297
    },
    "id": "LmtIvNaBKE6J",
    "outputId": "56aa03a5-c0a7-4faa-d9a9-3676850be09c"
   },
   "outputs": [
    {
     "name": "stdout",
     "output_type": "stream",
     "text": [
      "761/761 [==============================] - 21s 26ms/step\n"
     ]
    },
    {
     "data": {
      "image/png": "[encoded data removed]",
      "text/plain": [
       "<Figure size 432x288 with 1 Axes>"
      ]
     },
     "metadata": {
      "needs_background": "light"
     },
     "output_type": "display_data"
    }
   ],
   "source": [
    "from sklearn.metrics import PrecisionRecallDisplay\n",
    "import matplotlib.pyplot as plt\n",
    "\n",
    "y_pred_proba = model3.predict(val_ds)\n",
    "\n",
    "PrecisionRecallDisplay.from_predictions(y_test, y_pred_proba)\n",
    "plt.show();"
   ]
  },
  {
   "cell_type": "code",
   "execution_count": null,
   "metadata": {
    "id": "7q5noZ4C7Bdi"
   },
   "outputs": [],
   "source": [
    "model3.save_weights(\"/content/drive/MyDrive/sentiment_model.h5\")\n",
    "\n",
    "# Eğitim sonrası elde ettiğimiz model ağırlıklarını/katsayılarını save_weights fonksiyonu ile drive yolunu/ismini vererek drive kaydediyoruz."
   ]
  },
  {
   "cell_type": "code",
   "execution_count": null,
   "metadata": {
    "colab": {
     "base_uri": "https://localhost:8080/"
    },
    "id": "_B6Sv63_H3we",
    "outputId": "dfa99096-8b96-4454-fb6a-8bfe85283e01"
   },
   "outputs": [
    {
     "name": "stderr",
     "output_type": "stream",
     "text": [
      "Some layers from the model checkpoint at dbmdz/bert-base-turkish-uncased were not used when initializing TFBertModel: ['nsp___cls', 'mlm___cls']\n",
      "- This IS expected if you are initializing TFBertModel from the checkpoint of a model trained on another task or with another architecture (e.g. initializing a BertForSequenceClassification model from a BertForPreTraining model).\n",
      "- This IS NOT expected if you are initializing TFBertModel from the checkpoint of a model that you expect to be exactly identical (initializing a BertForSequenceClassification model from a BertForSequenceClassification model).\n",
      "All the layers of TFBertModel were initialized from the model checkpoint at dbmdz/bert-base-turkish-uncased.\n",
      "If your task is similar to the task the model of the checkpoint was trained on, you can already use TFBertModel for predictions without further training.\n"
     ]
    }
   ],
   "source": [
    "with strategy.scope():\n",
    "\n",
    "  model4 = create_model()\n",
    "  model4.load_weights(\"/content/drive/MyDrive/sentiment_model.h5\")\n",
    "\n",
    "# Drive kaydettiğimiz model ağırlıklarını/katsayılarını yüklemeden önce yukarıda create_model fonksiyonu altına tanımladığımız BERT modeli kuruyoruz.\n",
    "# Kurduğumuz bu modeli model4 değişkenine atıp eğitilmemiş olan bu modele ağırlık/katsayıları yüklüyoruz."
   ]
  },
  {
   "cell_type": "markdown",
   "metadata": {
    "id": "SYxh9RqsfOsR"
   },
   "source": [
    "## Predictions"
   ]
  },
  {
   "cell_type": "code",
   "execution_count": null,
   "metadata": {
    "id": "nCFWJudaAGKI"
   },
   "outputs": [],
   "source": [
    "# train ve test datasının 3 boyutlu tensörlere dönüştürülme işlemlerinin aynısını sırasıyla predict edeceğimiz observationlara(obs) aynen uyguluyoruz.\n",
    "\n",
    "def prep_data(text):\n",
    "  import tensorflow as tf\n",
    "  \n",
    "  batch_size = 32 # eğitim datasına uygulanan batch_size'ı uyguluyoruz.\n",
    "  # 1. Predict edeceğimiz yeni gözlemleri öncelikle token embeddings (input_ids) ve position embeddings (attention_mask) matrixlerine dönüştürüyoruz.\n",
    "  # bu fonksiyonu kullanabilmek için öncelikle transformation funksiyonunu çalıştırmanız gerektiğini unutmayın.\n",
    "  Xids_obs, Xmask_obs = transformation(text) \n",
    "  \n",
    "  # 2. Xids_obs, Xmask_obs matrixlerimizi 3 boyutlu tensörlere dönüştürüyoruz.\n",
    "  dataset_obs = tf.data.Dataset.from_tensor_slices((Xids_obs, Xmask_obs))\n",
    "  \n",
    "  # 3. Dönüştürdüğümüz 3 boyutlu tensörleri modelin tanıyabilmesi için \"input_ids\" ve \"attention_mask\" olarak isimlendiriyoruz.\n",
    "  def map_func(Tensor_Xids, Tensor_Xmask):\n",
    "       return {'input_ids': Tensor_Xids, 'attention_mask': Tensor_Xmask}\n",
    "  \n",
    "  dataset_obs = dataset_obs.map(map_func)\n",
    "\n",
    "  # 4. Son aşama olarak 3 boyutlu tensörlerimizi train datasında olduğu gibi 32'li paketler haline getiriyoruz. Yoksa shape uyumsuzluk hatası alırız. \n",
    "  obs_ds = dataset_obs.batch(batch_size)\n",
    "\n",
    "  return obs_ds "
   ]
  },
  {
   "cell_type": "code",
   "execution_count": null,
   "metadata": {
    "id": "-tbmF2a5QZHD"
   },
   "outputs": [],
   "source": [
    "review1 = \"çok beğendim herkese tavsiye ederim\"\n",
    "review2 = \"süper ürün aynı gün elime geçti\"\n",
    "review3 = \"büyük bir hayal kırıklığı yaşadım bu ürünü bu markaya yakıştıramadım\"\n",
    "review4 = \"kelimelerle tarif edilemez\"\n",
    "review5 = \"tasarımı harika ancak kargo çok geç geldi ve ürün açılmıştı hayal kırıklığı gerçekten\"\n",
    "review6 = \"hiç resimde gösterildiği gibi değil\"\n",
    "review7 = \"kötü yorumlar gözümü korkutmuştu ancak hiçbir sorun yaşamadım teşekkürler\"\n",
    "review8 = \"hiç bu kadar kötü bir satıcıya denk gelmemiştim ürün siparişimi iptal ediyorum\"\n",
    "review9 = \"tam bir fiyat performans ürünü\"\n",
    "review10 = \"beklediğim gibi çıkmadı\"\n",
    "review11 = \"on numara beş yıldız\"\n",
    "review12 = \"bu kargoyu biran önce bırakın. yoksa üründe sıkıntı yok\"\n",
    "review13 = \"televizyonun görüntü kalitesi çok kötü, dün akşam evde arkadaşlarla toplandık. yedik, içtik, sohbet ettik. Sonra televizyonda Türkiye - İngiltere maçını seyrettik. \"\n",
    "review14 = '1 gün gibi kısa bir sürede elime geçti. Ve bu fıyata süper bir ürün tavsiye ederim. Lakin eli büyük olan kişiler daha büyük modelini tercih edebilirler ortaboy ürün. Teşekkürler '\n",
    "review15 = \"alınca anlarsın anyayı konyayı\"\n",
    "review16 = \"çöpe atacak paran varsa al\"\n",
    "review17=  \"Telefon çok da kötü değil\"\n",
    "review18 = \"al da gününü gör\"\n",
    "review19 = \"Ürün harika ama satıcı ve kargo berbat\"\n",
    "review20 = \"kargo süper ama ürün berbat\"\n",
    "review21 = \"Aldigim TV cok kaliteli diye dusunmustum, sonradan cok da iyi bir TV olmadigini dusundum, ama neyse yine de memnunum.\"\n",
    "review22 = \"😊\"\n",
    "review23 = \":)\"\n",
    "review24 = \"I ❤️ you\"\n",
    "review25 = 'telefon kesinlikle bu parayı hak etmiyor. yeni hiç bir özelliği yok. ancak küçük ekran sevenler için iyi bir telefon'\n",
    "review26 = 'müthiş bir telefon ama bu parayı hak etmiyor'\n",
    "reviews = [review1, review2, review3, review4, review5, review6, review7, review8, review9, review10, review11, review12, review13, review14, review15, review16, review17, \n",
    "           review18, review19, review20, review21, review22, review23, review24, review25, review26] \n",
    "\n",
    "# oluşturduğumuz tüm yorumları bir array veya list içerisine alıyoruz."
   ]
  },
  {
   "cell_type": "code",
   "execution_count": null,
   "metadata": {
    "id": "zmrbCbaeFRuR"
   },
   "outputs": [],
   "source": [
    "obs_ds = prep_data(reviews)\n",
    "\n",
    "# Datamızı 3 boyutlu tensörlere dönüştürüyoruz."
   ]
  },
  {
   "cell_type": "code",
   "execution_count": null,
   "metadata": {
    "colab": {
     "base_uri": "https://localhost:8080/"
    },
    "id": "JxuWs6YQFior",
    "outputId": "bebba568-7305-46fc-d96b-90de97d36e29"
   },
   "outputs": [
    {
     "name": "stdout",
     "output_type": "stream",
     "text": [
      "1/1 [==============================] - 10s 10s/step\n"
     ]
    },
    {
     "data": {
      "text/plain": [
       "array([[6.0510635e-04],\n",
       "       [9.1937184e-04],\n",
       "       [1.0000000e+00],\n",
       "       [1.3228357e-03],\n",
       "       [9.9186432e-01],\n",
       "       [1.0000000e+00],\n",
       "       [1.9855797e-03],\n",
       "       [1.0000000e+00],\n",
       "       [7.1790814e-04],\n",
       "       [1.0000000e+00],\n",
       "       [6.2897801e-04],\n",
       "       [1.8563867e-02],\n",
       "       [1.0000000e+00],\n",
       "       [9.3109906e-03],\n",
       "       [7.7394515e-02],\n",
       "       [1.0000000e+00],\n",
       "       [1.1723432e-01],\n",
       "       [6.7403615e-03],\n",
       "       [1.0360599e-02],\n",
       "       [1.0000000e+00],\n",
       "       [3.6402524e-02],\n",
       "       [1.2170076e-03],\n",
       "       [1.0031760e-03],\n",
       "       [2.0790100e-03],\n",
       "       [1.0000000e+00],\n",
       "       [1.1140287e-02]], dtype=float32)"
      ]
     },
     "execution_count": 63,
     "metadata": {},
     "output_type": "execute_result"
    }
   ],
   "source": [
    "probs = model4.predict(obs_ds)\n",
    "probs\n",
    "\n",
    "# predictionlarımızı alıyoruz."
   ]
  },
  {
   "cell_type": "code",
   "execution_count": null,
   "metadata": {
    "colab": {
     "base_uri": "https://localhost:8080/"
    },
    "id": "zG-lZ5njKqM5",
    "outputId": "754ce0ae-b5e3-4f74-c023-f87edf3aea04"
   },
   "outputs": [
    {
     "data": {
      "text/plain": [
       "[0.00060510635,\n",
       " 0.00091937184,\n",
       " 1.0,\n",
       " 0.0013228357,\n",
       " 0.9918643,\n",
       " 1.0,\n",
       " 0.0019855797,\n",
       " 1.0,\n",
       " 0.00071790814,\n",
       " 1.0,\n",
       " 0.000628978,\n",
       " 0.018563867,\n",
       " 1.0,\n",
       " 0.009310991,\n",
       " 0.077394515,\n",
       " 1.0,\n",
       " 0.11723432,\n",
       " 0.0067403615,\n",
       " 0.010360599,\n",
       " 1.0,\n",
       " 0.036402524,\n",
       " 0.0012170076,\n",
       " 0.001003176,\n",
       " 0.00207901,\n",
       " 1.0,\n",
       " 0.011140287]"
      ]
     },
     "execution_count": 64,
     "metadata": {},
     "output_type": "execute_result"
    }
   ],
   "source": [
    "probs = [i[0] for i in probs]\n",
    "probs"
   ]
  },
  {
   "cell_type": "code",
   "execution_count": null,
   "metadata": {
    "id": "C4K7UIYqLRiY"
   },
   "outputs": [],
   "source": []
  },
  {
   "cell_type": "code",
   "execution_count": null,
   "metadata": {
    "colab": {
     "base_uri": "https://localhost:8080/"
    },
    "id": "dxgMYBczYyNC",
    "outputId": "8d7fc71f-575e-481f-961f-22f8ba719a57"
   },
   "outputs": [
    {
     "data": {
      "text/plain": [
       "array([0, 0, 1, 0, 1, 1, 0, 1, 0, 1, 0, 0, 1, 0, 0, 1, 0, 0, 0, 1, 0, 0,\n",
       "       0, 0, 1, 0])"
      ]
     },
     "execution_count": 65,
     "metadata": {},
     "output_type": "execute_result"
    }
   ],
   "source": [
    "classes  = (np.array(probs) >= 0.5).astype(\"int\")\n",
    "classes"
   ]
  },
  {
   "cell_type": "code",
   "execution_count": null,
   "metadata": {
    "id": "IgH72FPhYyBr"
   },
   "outputs": [],
   "source": [
    "my_dict = {\"Review\":reviews, \"prob\":probs, \"classes\":classes}"
   ]
  },
  {
   "cell_type": "code",
   "execution_count": null,
   "metadata": {
    "colab": {
     "base_uri": "https://localhost:8080/",
     "height": 864
    },
    "id": "TLeukDeMYx1o",
    "outputId": "3c053ecb-dd09-4f73-d947-a049e5226a53"
   },
   "outputs": [
    {
     "data": {
      "text/html": [
       "\n",
       "  <div id=\"df-35dc2906-f7c3-4a84-858f-e0ff01bce108\">\n",
       "    <div class=\"colab-df-container\">\n",
       "      <div>\n",
       "<style scoped>\n",
       "    .dataframe tbody tr th:only-of-type {\n",
       "        vertical-align: middle;\n",
       "    }\n",
       "\n",
       "    .dataframe tbody tr th {\n",
       "        vertical-align: top;\n",
       "    }\n",
       "\n",
       "    .dataframe thead th {\n",
       "        text-align: right;\n",
       "    }\n",
       "</style>\n",
       "<table border=\"1\" class=\"dataframe\">\n",
       "  <thead>\n",
       "    <tr style=\"text-align: right;\">\n",
       "      <th></th>\n",
       "      <th>Review</th>\n",
       "      <th>prob</th>\n",
       "      <th>classes</th>\n",
       "    </tr>\n",
       "  </thead>\n",
       "  <tbody>\n",
       "    <tr>\n",
       "      <th>0</th>\n",
       "      <td>çok beğendim herkese tavsiye ederim</td>\n",
       "      <td>0.000605</td>\n",
       "      <td>0</td>\n",
       "    </tr>\n",
       "    <tr>\n",
       "      <th>1</th>\n",
       "      <td>süper ürün aynı gün elime geçti</td>\n",
       "      <td>0.000919</td>\n",
       "      <td>0</td>\n",
       "    </tr>\n",
       "    <tr>\n",
       "      <th>2</th>\n",
       "      <td>büyük bir hayal kırıklığı yaşadım bu ürünü bu markaya yakıştıramadım</td>\n",
       "      <td>1.000000</td>\n",
       "      <td>1</td>\n",
       "    </tr>\n",
       "    <tr>\n",
       "      <th>3</th>\n",
       "      <td>kelimelerle tarif edilemez</td>\n",
       "      <td>0.001323</td>\n",
       "      <td>0</td>\n",
       "    </tr>\n",
       "    <tr>\n",
       "      <th>4</th>\n",
       "      <td>tasarımı harika ancak kargo çok geç geldi ve ürün açılmıştı hayal kırıklığı gerçekten</td>\n",
       "      <td>0.991864</td>\n",
       "      <td>1</td>\n",
       "    </tr>\n",
       "    <tr>\n",
       "      <th>5</th>\n",
       "      <td>hiç resimde gösterildiği gibi değil</td>\n",
       "      <td>1.000000</td>\n",
       "      <td>1</td>\n",
       "    </tr>\n",
       "    <tr>\n",
       "      <th>6</th>\n",
       "      <td>kötü yorumlar gözümü korkutmuştu ancak hiçbir sorun yaşamadım teşekkürler</td>\n",
       "      <td>0.001986</td>\n",
       "      <td>0</td>\n",
       "    </tr>\n",
       "    <tr>\n",
       "      <th>7</th>\n",
       "      <td>hiç bu kadar kötü bir satıcıya denk gelmemiştim ürün siparişimi iptal ediyorum</td>\n",
       "      <td>1.000000</td>\n",
       "      <td>1</td>\n",
       "    </tr>\n",
       "    <tr>\n",
       "      <th>8</th>\n",
       "      <td>tam bir fiyat performans ürünü</td>\n",
       "      <td>0.000718</td>\n",
       "      <td>0</td>\n",
       "    </tr>\n",
       "    <tr>\n",
       "      <th>9</th>\n",
       "      <td>beklediğim gibi çıkmadı</td>\n",
       "      <td>1.000000</td>\n",
       "      <td>1</td>\n",
       "    </tr>\n",
       "    <tr>\n",
       "      <th>10</th>\n",
       "      <td>on numara beş yıldız</td>\n",
       "      <td>0.000629</td>\n",
       "      <td>0</td>\n",
       "    </tr>\n",
       "    <tr>\n",
       "      <th>11</th>\n",
       "      <td>bu kargoyu biran önce bırakın. yoksa üründe sıkıntı yok</td>\n",
       "      <td>0.018564</td>\n",
       "      <td>0</td>\n",
       "    </tr>\n",
       "    <tr>\n",
       "      <th>12</th>\n",
       "      <td>televizyonun görüntü kalitesi çok kötü, dün akşam evde arkadaşlarla toplandık. yedik, içtik, sohbet ettik. Sonra televizyonda Türkiye - İngiltere maçını seyrettik.</td>\n",
       "      <td>1.000000</td>\n",
       "      <td>1</td>\n",
       "    </tr>\n",
       "    <tr>\n",
       "      <th>13</th>\n",
       "      <td>1 gün gibi kısa bir sürede elime geçti. Ve bu fıyata süper bir ürün tavsiye ederim. Lakin eli büyük olan kişiler daha büyük modelini tercih edebilirler ortaboy ürün. Teşekkürler</td>\n",
       "      <td>0.009311</td>\n",
       "      <td>0</td>\n",
       "    </tr>\n",
       "    <tr>\n",
       "      <th>14</th>\n",
       "      <td>alınca anlarsın anyayı konyayı</td>\n",
       "      <td>0.077395</td>\n",
       "      <td>0</td>\n",
       "    </tr>\n",
       "    <tr>\n",
       "      <th>15</th>\n",
       "      <td>çöpe atacak paran varsa al</td>\n",
       "      <td>1.000000</td>\n",
       "      <td>1</td>\n",
       "    </tr>\n",
       "    <tr>\n",
       "      <th>16</th>\n",
       "      <td>Telefon çok da kötü değil</td>\n",
       "      <td>0.117234</td>\n",
       "      <td>0</td>\n",
       "    </tr>\n",
       "    <tr>\n",
       "      <th>17</th>\n",
       "      <td>al da gününü gör</td>\n",
       "      <td>0.006740</td>\n",
       "      <td>0</td>\n",
       "    </tr>\n",
       "    <tr>\n",
       "      <th>18</th>\n",
       "      <td>Ürün harika ama satıcı ve kargo berbat</td>\n",
       "      <td>0.010361</td>\n",
       "      <td>0</td>\n",
       "    </tr>\n",
       "    <tr>\n",
       "      <th>19</th>\n",
       "      <td>kargo süper ama ürün berbat</td>\n",
       "      <td>1.000000</td>\n",
       "      <td>1</td>\n",
       "    </tr>\n",
       "    <tr>\n",
       "      <th>20</th>\n",
       "      <td>Aldigim TV cok kaliteli diye dusunmustum, sonradan cok da iyi bir TV olmadigini dusundum, ama neyse yine de memnunum.</td>\n",
       "      <td>0.036403</td>\n",
       "      <td>0</td>\n",
       "    </tr>\n",
       "    <tr>\n",
       "      <th>21</th>\n",
       "      <td>😊</td>\n",
       "      <td>0.001217</td>\n",
       "      <td>0</td>\n",
       "    </tr>\n",
       "    <tr>\n",
       "      <th>22</th>\n",
       "      <td>:)</td>\n",
       "      <td>0.001003</td>\n",
       "      <td>0</td>\n",
       "    </tr>\n",
       "    <tr>\n",
       "      <th>23</th>\n",
       "      <td>I ❤️ you</td>\n",
       "      <td>0.002079</td>\n",
       "      <td>0</td>\n",
       "    </tr>\n",
       "    <tr>\n",
       "      <th>24</th>\n",
       "      <td>telefon kesinlikle bu parayı hak etmiyor. yeni hiç bir özelliği yok. ancak küçük ekran sevenler için iyi bir telefon</td>\n",
       "      <td>1.000000</td>\n",
       "      <td>1</td>\n",
       "    </tr>\n",
       "    <tr>\n",
       "      <th>25</th>\n",
       "      <td>müthiş bir telefon ama bu parayı hak etmiyor</td>\n",
       "      <td>0.011140</td>\n",
       "      <td>0</td>\n",
       "    </tr>\n",
       "  </tbody>\n",
       "</table>\n",
       "</div>\n",
       "      <button class=\"colab-df-convert\" onclick=\"convertToInteractive('df-35dc2906-f7c3-4a84-858f-e0ff01bce108')\"\n",
       "              title=\"Convert this dataframe to an interactive table.\"\n",
       "              style=\"display:none;\">\n",
       "        \n",
       "  <svg xmlns=\"http://www.w3.org/2000/svg\" height=\"24px\"viewBox=\"0 0 24 24\"\n",
       "       width=\"24px\">\n",
       "    <path d=\"M0 0h24v24H0V0z\" fill=\"none\"/>\n",
       "    <path d=\"M18.56 5.44l.94 2.06.94-2.06 2.06-.94-2.06-.94-.94-2.06-.94 2.06-2.06.94zm-11 1L8.5 8.5l.94-2.06 2.06-.94-2.06-.94L8.5 2.5l-.94 2.06-2.06.94zm10 10l.94 2.06.94-2.06 2.06-.94-2.06-.94-.94-2.06-.94 2.06-2.06.94z\"/><path d=\"M17.41 7.96l-1.37-1.37c-.4-.4-.92-.59-1.43-.59-.52 0-1.04.2-1.43.59L10.3 9.45l-7.72 7.72c-.78.78-.78 2.05 0 2.83L4 21.41c.39.39.9.59 1.41.59.51 0 1.02-.2 1.41-.59l7.78-7.78 2.81-2.81c.8-.78.8-2.07 0-2.86zM5.41 20L4 18.59l7.72-7.72 1.47 1.35L5.41 20z\"/>\n",
       "  </svg>\n",
       "      </button>\n",
       "      \n",
       "  <style>\n",
       "    .colab-df-container {\n",
       "      display:flex;\n",
       "      flex-wrap:wrap;\n",
       "      gap: 12px;\n",
       "    }\n",
       "\n",
       "    .colab-df-convert {\n",
       "      background-color: #E8F0FE;\n",
       "      border: none;\n",
       "      border-radius: 50%;\n",
       "      cursor: pointer;\n",
       "      display: none;\n",
       "      fill: #1967D2;\n",
       "      height: 32px;\n",
       "      padding: 0 0 0 0;\n",
       "      width: 32px;\n",
       "    }\n",
       "\n",
       "    .colab-df-convert:hover {\n",
       "      background-color: #E2EBFA;\n",
       "      box-shadow: 0px 1px 2px rgba(60, 64, 67, 0.3), 0px 1px 3px 1px rgba(60, 64, 67, 0.15);\n",
       "      fill: #174EA6;\n",
       "    }\n",
       "\n",
       "    [theme=dark] .colab-df-convert {\n",
       "      background-color: #3B4455;\n",
       "      fill: #D2E3FC;\n",
       "    }\n",
       "\n",
       "    [theme=dark] .colab-df-convert:hover {\n",
       "      background-color: #434B5C;\n",
       "      box-shadow: 0px 1px 3px 1px rgba(0, 0, 0, 0.15);\n",
       "      filter: drop-shadow(0px 1px 2px rgba(0, 0, 0, 0.3));\n",
       "      fill: #FFFFFF;\n",
       "    }\n",
       "  </style>\n",
       "\n",
       "      <script>\n",
       "        const buttonEl =\n",
       "          document.querySelector('#df-35dc2906-f7c3-4a84-858f-e0ff01bce108 button.colab-df-convert');\n",
       "        buttonEl.style.display =\n",
       "          google.colab.kernel.accessAllowed ? 'block' : 'none';\n",
       "\n",
       "        async function convertToInteractive(key) {\n",
       "          const element = document.querySelector('#df-35dc2906-f7c3-4a84-858f-e0ff01bce108');\n",
       "          const dataTable =\n",
       "            await google.colab.kernel.invokeFunction('convertToInteractive',\n",
       "                                                     [key], {});\n",
       "          if (!dataTable) return;\n",
       "\n",
       "          const docLinkHtml = 'Like what you see? Visit the ' +\n",
       "            '<a target=\"_blank\" href=https://colab.research.google.com/notebooks/data_table.ipynb>data table notebook</a>'\n",
       "            + ' to learn more about interactive tables.';\n",
       "          element.innerHTML = '';\n",
       "          dataTable['output_type'] = 'display_data';\n",
       "          await google.colab.output.renderOutput(dataTable, element);\n",
       "          const docLink = document.createElement('div');\n",
       "          docLink.innerHTML = docLinkHtml;\n",
       "          element.appendChild(docLink);\n",
       "        }\n",
       "      </script>\n",
       "    </div>\n",
       "  </div>\n",
       "  "
      ],
      "text/plain": [
       "                                                                                                                                                                                Review  \\\n",
       "0                                                                                                                                                  çok beğendim herkese tavsiye ederim   \n",
       "1                                                                                                                                                      süper ürün aynı gün elime geçti   \n",
       "2                                                                                                                 büyük bir hayal kırıklığı yaşadım bu ürünü bu markaya yakıştıramadım   \n",
       "3                                                                                                                                                           kelimelerle tarif edilemez   \n",
       "4                                                                                                tasarımı harika ancak kargo çok geç geldi ve ürün açılmıştı hayal kırıklığı gerçekten   \n",
       "5                                                                                                                                                  hiç resimde gösterildiği gibi değil   \n",
       "6                                                                                                            kötü yorumlar gözümü korkutmuştu ancak hiçbir sorun yaşamadım teşekkürler   \n",
       "7                                                                                                       hiç bu kadar kötü bir satıcıya denk gelmemiştim ürün siparişimi iptal ediyorum   \n",
       "8                                                                                                                                                       tam bir fiyat performans ürünü   \n",
       "9                                                                                                                                                              beklediğim gibi çıkmadı   \n",
       "10                                                                                                                                                                on numara beş yıldız   \n",
       "11                                                                                                                             bu kargoyu biran önce bırakın. yoksa üründe sıkıntı yok   \n",
       "12                televizyonun görüntü kalitesi çok kötü, dün akşam evde arkadaşlarla toplandık. yedik, içtik, sohbet ettik. Sonra televizyonda Türkiye - İngiltere maçını seyrettik.    \n",
       "13  1 gün gibi kısa bir sürede elime geçti. Ve bu fıyata süper bir ürün tavsiye ederim. Lakin eli büyük olan kişiler daha büyük modelini tercih edebilirler ortaboy ürün. Teşekkürler    \n",
       "14                                                                                                                                                      alınca anlarsın anyayı konyayı   \n",
       "15                                                                                                                                                          çöpe atacak paran varsa al   \n",
       "16                                                                                                                                                           Telefon çok da kötü değil   \n",
       "17                                                                                                                                                                    al da gününü gör   \n",
       "18                                                                                                                                              Ürün harika ama satıcı ve kargo berbat   \n",
       "19                                                                                                                                                         kargo süper ama ürün berbat   \n",
       "20                                                               Aldigim TV cok kaliteli diye dusunmustum, sonradan cok da iyi bir TV olmadigini dusundum, ama neyse yine de memnunum.   \n",
       "21                                                                                                                                                                                   😊   \n",
       "22                                                                                                                                                                                  :)   \n",
       "23                                                                                                                                                                            I ❤️ you   \n",
       "24                                                                telefon kesinlikle bu parayı hak etmiyor. yeni hiç bir özelliği yok. ancak küçük ekran sevenler için iyi bir telefon   \n",
       "25                                                                                                                                        müthiş bir telefon ama bu parayı hak etmiyor   \n",
       "\n",
       "        prob  classes  \n",
       "0   0.000605        0  \n",
       "1   0.000919        0  \n",
       "2   1.000000        1  \n",
       "3   0.001323        0  \n",
       "4   0.991864        1  \n",
       "5   1.000000        1  \n",
       "6   0.001986        0  \n",
       "7   1.000000        1  \n",
       "8   0.000718        0  \n",
       "9   1.000000        1  \n",
       "10  0.000629        0  \n",
       "11  0.018564        0  \n",
       "12  1.000000        1  \n",
       "13  0.009311        0  \n",
       "14  0.077395        0  \n",
       "15  1.000000        1  \n",
       "16  0.117234        0  \n",
       "17  0.006740        0  \n",
       "18  0.010361        0  \n",
       "19  1.000000        1  \n",
       "20  0.036403        0  \n",
       "21  0.001217        0  \n",
       "22  0.001003        0  \n",
       "23  0.002079        0  \n",
       "24  1.000000        1  \n",
       "25  0.011140        0  "
      ]
     },
     "execution_count": 67,
     "metadata": {},
     "output_type": "execute_result"
    }
   ],
   "source": [
    "pd.set_option('display.max_colwidth', None)\n",
    "pd.DataFrame(my_dict)"
   ]
  },
  {
   "cell_type": "code",
   "execution_count": null,
   "metadata": {
    "colab": {
     "base_uri": "https://localhost:8080/"
    },
    "id": "d5ImVzx1sBVt",
    "outputId": "56ae47d9-a3fc-4820-c10a-06dae0f62fd5"
   },
   "outputs": [
    {
     "name": "stdout",
     "output_type": "stream",
     "text": [
      "0\n"
     ]
    }
   ],
   "source": [
    "count=0\n",
    "for i in X_train:\n",
    "  if \"gününü gör\" in i.lower():\n",
    "    count+=1\n",
    "print(count)"
   ]
  },
  {
   "cell_type": "code",
   "execution_count": null,
   "metadata": {
    "colab": {
     "base_uri": "https://localhost:8080/"
    },
    "id": "euKZ9NFPVmee",
    "outputId": "7ba4f552-0506-4e21-d38d-3a37f130e39c"
   },
   "outputs": [
    {
     "name": "stdout",
     "output_type": "stream",
     "text": [
      "0\n"
     ]
    }
   ],
   "source": [
    "count=0\n",
    "for i in X_train:\n",
    "  if \"anyayı konyayı\" in i.lower():\n",
    "    count+=1\n",
    "print(count)"
   ]
  },
  {
   "cell_type": "code",
   "execution_count": null,
   "metadata": {
    "colab": {
     "base_uri": "https://localhost:8080/"
    },
    "id": "hGjWw_xgsQVa",
    "outputId": "76fe890d-2ce8-4a66-9921-5cdb73fac0bf"
   },
   "outputs": [
    {
     "name": "stdout",
     "output_type": "stream",
     "text": [
      "158068\n",
      "218693\n",
      "2\n"
     ]
    }
   ],
   "source": [
    "count=0\n",
    "for i, j in enumerate(X):\n",
    "  if \"çöpe atacak paran\" in j.lower() and y[i]==1:\n",
    "    count+=1\n",
    "    print(i)\n",
    "print(count)"
   ]
  },
  {
   "cell_type": "code",
   "execution_count": null,
   "metadata": {
    "colab": {
     "base_uri": "https://localhost:8080/",
     "height": 36
    },
    "id": "jBcD3a0tCwAI",
    "outputId": "d1acc01d-98bf-43bd-f2e9-c1a72f13e4a0"
   },
   "outputs": [
    {
     "data": {
      "application/vnd.google.colaboratory.intrinsic+json": {
       "type": "string"
      },
      "text/plain": [
       "'beş para etmez çöpe atacak paranız varsa alın'"
      ]
     },
     "execution_count": 71,
     "metadata": {},
     "output_type": "execute_result"
    }
   ],
   "source": [
    "X[158068]"
   ]
  },
  {
   "cell_type": "code",
   "execution_count": null,
   "metadata": {
    "id": "JmvqTUzoVDMx"
   },
   "outputs": [],
   "source": []
  }
 ],
 "metadata": {
  "accelerator": "TPU",
  "colab": {
   "provenance": []
  },
  "gpuClass": "standard",
  "kernelspec": {
   "display_name": "Python 3 (ipykernel)",
   "language": "python",
   "name": "python3"
  },
  "language_info": {
   "codemirror_mode": {
    "name": "ipython",
    "version": 3
   },
   "file_extension": ".py",
   "mimetype": "text/x-python",
   "name": "python",
   "nbconvert_exporter": "python",
   "pygments_lexer": "ipython3",
   "version": "3.9.12"
  }
 },
 "nbformat": 4,
 "nbformat_minor": 1
}
